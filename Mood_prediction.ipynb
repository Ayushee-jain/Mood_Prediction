{
 "cells": [
  {
   "cell_type": "code",
   "execution_count": 1,
   "metadata": {},
   "outputs": [],
   "source": [
    "import pandas as pd\n",
    "import numpy as np\n",
    "import matplotlib.pyplot as plt\n",
    "import seaborn as sns"
   ]
  },
  {
   "cell_type": "code",
   "execution_count": 2,
   "metadata": {},
   "outputs": [],
   "source": [
    "data=pd.read_csv(r'C:\\Users\\LENOVO\\Documents\\Mood-Predictor\\spotify.csv')"
   ]
  },
  {
   "cell_type": "code",
   "execution_count": 3,
   "metadata": {},
   "outputs": [
    {
     "data": {
      "text/html": [
       "<div>\n",
       "<style scoped>\n",
       "    .dataframe tbody tr th:only-of-type {\n",
       "        vertical-align: middle;\n",
       "    }\n",
       "\n",
       "    .dataframe tbody tr th {\n",
       "        vertical-align: top;\n",
       "    }\n",
       "\n",
       "    .dataframe thead th {\n",
       "        text-align: right;\n",
       "    }\n",
       "</style>\n",
       "<table border=\"1\" class=\"dataframe\">\n",
       "  <thead>\n",
       "    <tr style=\"text-align: right;\">\n",
       "      <th></th>\n",
       "      <th>Unnamed: 0</th>\n",
       "      <th>name</th>\n",
       "      <th>album</th>\n",
       "      <th>artist</th>\n",
       "      <th>release_date</th>\n",
       "      <th>length</th>\n",
       "      <th>popularity</th>\n",
       "      <th>danceability</th>\n",
       "      <th>acousticness</th>\n",
       "      <th>danceability.1</th>\n",
       "      <th>energy</th>\n",
       "      <th>instrumentalness</th>\n",
       "      <th>liveness</th>\n",
       "      <th>loudness</th>\n",
       "      <th>speechiness</th>\n",
       "      <th>tempo</th>\n",
       "      <th>time_signature</th>\n",
       "    </tr>\n",
       "  </thead>\n",
       "  <tbody>\n",
       "    <tr>\n",
       "      <td>0</td>\n",
       "      <td>0</td>\n",
       "      <td>I Will Always Love You</td>\n",
       "      <td>The Bodyguard - Original Soundtrack Album</td>\n",
       "      <td>Whitney Houston</td>\n",
       "      <td>1992-11-17</td>\n",
       "      <td>271093</td>\n",
       "      <td>77</td>\n",
       "      <td>0.306</td>\n",
       "      <td>0.8440</td>\n",
       "      <td>0.306</td>\n",
       "      <td>0.214</td>\n",
       "      <td>0.000005</td>\n",
       "      <td>0.0839</td>\n",
       "      <td>-12.518</td>\n",
       "      <td>0.0356</td>\n",
       "      <td>66.980</td>\n",
       "      <td>4</td>\n",
       "    </tr>\n",
       "    <tr>\n",
       "      <td>1</td>\n",
       "      <td>1</td>\n",
       "      <td>Love of the Common People</td>\n",
       "      <td>From Time To Time - The Singles Collection</td>\n",
       "      <td>Paul Young</td>\n",
       "      <td>1991-09-07</td>\n",
       "      <td>220733</td>\n",
       "      <td>56</td>\n",
       "      <td>0.744</td>\n",
       "      <td>0.0883</td>\n",
       "      <td>0.744</td>\n",
       "      <td>0.609</td>\n",
       "      <td>0.000000</td>\n",
       "      <td>0.0599</td>\n",
       "      <td>-11.202</td>\n",
       "      <td>0.0758</td>\n",
       "      <td>90.723</td>\n",
       "      <td>4</td>\n",
       "    </tr>\n",
       "    <tr>\n",
       "      <td>2</td>\n",
       "      <td>2</td>\n",
       "      <td>Because I Love You</td>\n",
       "      <td>The Hits Of Shakin' Stevens Vol II</td>\n",
       "      <td>Shakin' Stevens</td>\n",
       "      <td>1997-01-01</td>\n",
       "      <td>197600</td>\n",
       "      <td>40</td>\n",
       "      <td>0.587</td>\n",
       "      <td>0.2440</td>\n",
       "      <td>0.587</td>\n",
       "      <td>0.343</td>\n",
       "      <td>0.000120</td>\n",
       "      <td>0.1180</td>\n",
       "      <td>-12.891</td>\n",
       "      <td>0.0255</td>\n",
       "      <td>102.070</td>\n",
       "      <td>4</td>\n",
       "    </tr>\n",
       "    <tr>\n",
       "      <td>3</td>\n",
       "      <td>3</td>\n",
       "      <td>Song For Zula</td>\n",
       "      <td>Muchacho De Lujo (Deluxe Edition)</td>\n",
       "      <td>Phosphorescent</td>\n",
       "      <td>2013-10-29</td>\n",
       "      <td>370200</td>\n",
       "      <td>59</td>\n",
       "      <td>0.492</td>\n",
       "      <td>0.7290</td>\n",
       "      <td>0.492</td>\n",
       "      <td>0.626</td>\n",
       "      <td>0.533000</td>\n",
       "      <td>0.0509</td>\n",
       "      <td>-8.260</td>\n",
       "      <td>0.0349</td>\n",
       "      <td>86.016</td>\n",
       "      <td>4</td>\n",
       "    </tr>\n",
       "    <tr>\n",
       "      <td>4</td>\n",
       "      <td>4</td>\n",
       "      <td>Song for Zula</td>\n",
       "      <td>Built to Break</td>\n",
       "      <td>Ronnie Fauss</td>\n",
       "      <td>2014-11-04</td>\n",
       "      <td>296840</td>\n",
       "      <td>31</td>\n",
       "      <td>0.506</td>\n",
       "      <td>0.7340</td>\n",
       "      <td>0.506</td>\n",
       "      <td>0.422</td>\n",
       "      <td>0.000013</td>\n",
       "      <td>0.0737</td>\n",
       "      <td>-6.931</td>\n",
       "      <td>0.0246</td>\n",
       "      <td>142.009</td>\n",
       "      <td>4</td>\n",
       "    </tr>\n",
       "  </tbody>\n",
       "</table>\n",
       "</div>"
      ],
      "text/plain": [
       "   Unnamed: 0                       name  \\\n",
       "0           0     I Will Always Love You   \n",
       "1           1  Love of the Common People   \n",
       "2           2         Because I Love You   \n",
       "3           3              Song For Zula   \n",
       "4           4              Song for Zula   \n",
       "\n",
       "                                        album           artist release_date  \\\n",
       "0   The Bodyguard - Original Soundtrack Album  Whitney Houston   1992-11-17   \n",
       "1  From Time To Time - The Singles Collection       Paul Young   1991-09-07   \n",
       "2          The Hits Of Shakin' Stevens Vol II  Shakin' Stevens   1997-01-01   \n",
       "3           Muchacho De Lujo (Deluxe Edition)   Phosphorescent   2013-10-29   \n",
       "4                              Built to Break     Ronnie Fauss   2014-11-04   \n",
       "\n",
       "   length  popularity  danceability  acousticness  danceability.1  energy  \\\n",
       "0  271093          77         0.306        0.8440           0.306   0.214   \n",
       "1  220733          56         0.744        0.0883           0.744   0.609   \n",
       "2  197600          40         0.587        0.2440           0.587   0.343   \n",
       "3  370200          59         0.492        0.7290           0.492   0.626   \n",
       "4  296840          31         0.506        0.7340           0.506   0.422   \n",
       "\n",
       "   instrumentalness  liveness  loudness  speechiness    tempo  time_signature  \n",
       "0          0.000005    0.0839   -12.518       0.0356   66.980               4  \n",
       "1          0.000000    0.0599   -11.202       0.0758   90.723               4  \n",
       "2          0.000120    0.1180   -12.891       0.0255  102.070               4  \n",
       "3          0.533000    0.0509    -8.260       0.0349   86.016               4  \n",
       "4          0.000013    0.0737    -6.931       0.0246  142.009               4  "
      ]
     },
     "execution_count": 3,
     "metadata": {},
     "output_type": "execute_result"
    }
   ],
   "source": [
    "data.head()"
   ]
  },
  {
   "cell_type": "code",
   "execution_count": 4,
   "metadata": {},
   "outputs": [],
   "source": [
    "data=data.drop(columns=['Unnamed: 0','album'])"
   ]
  },
  {
   "cell_type": "code",
   "execution_count": 5,
   "metadata": {},
   "outputs": [
    {
     "data": {
      "text/plain": [
       "(100, 15)"
      ]
     },
     "execution_count": 5,
     "metadata": {},
     "output_type": "execute_result"
    }
   ],
   "source": [
    "data.shape"
   ]
  },
  {
   "cell_type": "code",
   "execution_count": 6,
   "metadata": {},
   "outputs": [
    {
     "data": {
      "text/html": [
       "<div>\n",
       "<style scoped>\n",
       "    .dataframe tbody tr th:only-of-type {\n",
       "        vertical-align: middle;\n",
       "    }\n",
       "\n",
       "    .dataframe tbody tr th {\n",
       "        vertical-align: top;\n",
       "    }\n",
       "\n",
       "    .dataframe thead th {\n",
       "        text-align: right;\n",
       "    }\n",
       "</style>\n",
       "<table border=\"1\" class=\"dataframe\">\n",
       "  <thead>\n",
       "    <tr style=\"text-align: right;\">\n",
       "      <th></th>\n",
       "      <th>length</th>\n",
       "      <th>popularity</th>\n",
       "      <th>danceability</th>\n",
       "      <th>acousticness</th>\n",
       "      <th>danceability.1</th>\n",
       "      <th>energy</th>\n",
       "      <th>instrumentalness</th>\n",
       "      <th>liveness</th>\n",
       "      <th>loudness</th>\n",
       "      <th>speechiness</th>\n",
       "      <th>tempo</th>\n",
       "      <th>time_signature</th>\n",
       "    </tr>\n",
       "  </thead>\n",
       "  <tbody>\n",
       "    <tr>\n",
       "      <td>length</td>\n",
       "      <td>1.000000</td>\n",
       "      <td>-0.035747</td>\n",
       "      <td>-0.276102</td>\n",
       "      <td>0.166573</td>\n",
       "      <td>-0.276102</td>\n",
       "      <td>-0.179971</td>\n",
       "      <td>0.115450</td>\n",
       "      <td>-0.110641</td>\n",
       "      <td>-0.131227</td>\n",
       "      <td>-0.301603</td>\n",
       "      <td>-0.028351</td>\n",
       "      <td>-0.019281</td>\n",
       "    </tr>\n",
       "    <tr>\n",
       "      <td>popularity</td>\n",
       "      <td>-0.035747</td>\n",
       "      <td>1.000000</td>\n",
       "      <td>0.244712</td>\n",
       "      <td>0.004320</td>\n",
       "      <td>0.244712</td>\n",
       "      <td>0.075284</td>\n",
       "      <td>-0.086647</td>\n",
       "      <td>-0.057577</td>\n",
       "      <td>0.097159</td>\n",
       "      <td>0.156466</td>\n",
       "      <td>0.136576</td>\n",
       "      <td>0.281459</td>\n",
       "    </tr>\n",
       "    <tr>\n",
       "      <td>danceability</td>\n",
       "      <td>-0.276102</td>\n",
       "      <td>0.244712</td>\n",
       "      <td>1.000000</td>\n",
       "      <td>-0.513074</td>\n",
       "      <td>1.000000</td>\n",
       "      <td>0.464026</td>\n",
       "      <td>-0.365156</td>\n",
       "      <td>0.006982</td>\n",
       "      <td>0.504650</td>\n",
       "      <td>0.227847</td>\n",
       "      <td>-0.084359</td>\n",
       "      <td>0.425669</td>\n",
       "    </tr>\n",
       "    <tr>\n",
       "      <td>acousticness</td>\n",
       "      <td>0.166573</td>\n",
       "      <td>0.004320</td>\n",
       "      <td>-0.513074</td>\n",
       "      <td>1.000000</td>\n",
       "      <td>-0.513074</td>\n",
       "      <td>-0.823625</td>\n",
       "      <td>0.598887</td>\n",
       "      <td>-0.154202</td>\n",
       "      <td>-0.698539</td>\n",
       "      <td>-0.103277</td>\n",
       "      <td>0.042840</td>\n",
       "      <td>-0.330490</td>\n",
       "    </tr>\n",
       "    <tr>\n",
       "      <td>danceability.1</td>\n",
       "      <td>-0.276102</td>\n",
       "      <td>0.244712</td>\n",
       "      <td>1.000000</td>\n",
       "      <td>-0.513074</td>\n",
       "      <td>1.000000</td>\n",
       "      <td>0.464026</td>\n",
       "      <td>-0.365156</td>\n",
       "      <td>0.006982</td>\n",
       "      <td>0.504650</td>\n",
       "      <td>0.227847</td>\n",
       "      <td>-0.084359</td>\n",
       "      <td>0.425669</td>\n",
       "    </tr>\n",
       "    <tr>\n",
       "      <td>energy</td>\n",
       "      <td>-0.179971</td>\n",
       "      <td>0.075284</td>\n",
       "      <td>0.464026</td>\n",
       "      <td>-0.823625</td>\n",
       "      <td>0.464026</td>\n",
       "      <td>1.000000</td>\n",
       "      <td>-0.575925</td>\n",
       "      <td>0.276388</td>\n",
       "      <td>0.807139</td>\n",
       "      <td>0.209695</td>\n",
       "      <td>0.011353</td>\n",
       "      <td>0.341493</td>\n",
       "    </tr>\n",
       "    <tr>\n",
       "      <td>instrumentalness</td>\n",
       "      <td>0.115450</td>\n",
       "      <td>-0.086647</td>\n",
       "      <td>-0.365156</td>\n",
       "      <td>0.598887</td>\n",
       "      <td>-0.365156</td>\n",
       "      <td>-0.575925</td>\n",
       "      <td>1.000000</td>\n",
       "      <td>-0.144997</td>\n",
       "      <td>-0.798679</td>\n",
       "      <td>-0.110301</td>\n",
       "      <td>0.173111</td>\n",
       "      <td>-0.202861</td>\n",
       "    </tr>\n",
       "    <tr>\n",
       "      <td>liveness</td>\n",
       "      <td>-0.110641</td>\n",
       "      <td>-0.057577</td>\n",
       "      <td>0.006982</td>\n",
       "      <td>-0.154202</td>\n",
       "      <td>0.006982</td>\n",
       "      <td>0.276388</td>\n",
       "      <td>-0.144997</td>\n",
       "      <td>1.000000</td>\n",
       "      <td>0.229931</td>\n",
       "      <td>0.033623</td>\n",
       "      <td>0.117717</td>\n",
       "      <td>-0.233460</td>\n",
       "    </tr>\n",
       "    <tr>\n",
       "      <td>loudness</td>\n",
       "      <td>-0.131227</td>\n",
       "      <td>0.097159</td>\n",
       "      <td>0.504650</td>\n",
       "      <td>-0.698539</td>\n",
       "      <td>0.504650</td>\n",
       "      <td>0.807139</td>\n",
       "      <td>-0.798679</td>\n",
       "      <td>0.229931</td>\n",
       "      <td>1.000000</td>\n",
       "      <td>0.108249</td>\n",
       "      <td>-0.072173</td>\n",
       "      <td>0.382782</td>\n",
       "    </tr>\n",
       "    <tr>\n",
       "      <td>speechiness</td>\n",
       "      <td>-0.301603</td>\n",
       "      <td>0.156466</td>\n",
       "      <td>0.227847</td>\n",
       "      <td>-0.103277</td>\n",
       "      <td>0.227847</td>\n",
       "      <td>0.209695</td>\n",
       "      <td>-0.110301</td>\n",
       "      <td>0.033623</td>\n",
       "      <td>0.108249</td>\n",
       "      <td>1.000000</td>\n",
       "      <td>-0.086194</td>\n",
       "      <td>0.125356</td>\n",
       "    </tr>\n",
       "    <tr>\n",
       "      <td>tempo</td>\n",
       "      <td>-0.028351</td>\n",
       "      <td>0.136576</td>\n",
       "      <td>-0.084359</td>\n",
       "      <td>0.042840</td>\n",
       "      <td>-0.084359</td>\n",
       "      <td>0.011353</td>\n",
       "      <td>0.173111</td>\n",
       "      <td>0.117717</td>\n",
       "      <td>-0.072173</td>\n",
       "      <td>-0.086194</td>\n",
       "      <td>1.000000</td>\n",
       "      <td>-0.019247</td>\n",
       "    </tr>\n",
       "    <tr>\n",
       "      <td>time_signature</td>\n",
       "      <td>-0.019281</td>\n",
       "      <td>0.281459</td>\n",
       "      <td>0.425669</td>\n",
       "      <td>-0.330490</td>\n",
       "      <td>0.425669</td>\n",
       "      <td>0.341493</td>\n",
       "      <td>-0.202861</td>\n",
       "      <td>-0.233460</td>\n",
       "      <td>0.382782</td>\n",
       "      <td>0.125356</td>\n",
       "      <td>-0.019247</td>\n",
       "      <td>1.000000</td>\n",
       "    </tr>\n",
       "  </tbody>\n",
       "</table>\n",
       "</div>"
      ],
      "text/plain": [
       "                    length  popularity  danceability  acousticness  \\\n",
       "length            1.000000   -0.035747     -0.276102      0.166573   \n",
       "popularity       -0.035747    1.000000      0.244712      0.004320   \n",
       "danceability     -0.276102    0.244712      1.000000     -0.513074   \n",
       "acousticness      0.166573    0.004320     -0.513074      1.000000   \n",
       "danceability.1   -0.276102    0.244712      1.000000     -0.513074   \n",
       "energy           -0.179971    0.075284      0.464026     -0.823625   \n",
       "instrumentalness  0.115450   -0.086647     -0.365156      0.598887   \n",
       "liveness         -0.110641   -0.057577      0.006982     -0.154202   \n",
       "loudness         -0.131227    0.097159      0.504650     -0.698539   \n",
       "speechiness      -0.301603    0.156466      0.227847     -0.103277   \n",
       "tempo            -0.028351    0.136576     -0.084359      0.042840   \n",
       "time_signature   -0.019281    0.281459      0.425669     -0.330490   \n",
       "\n",
       "                  danceability.1    energy  instrumentalness  liveness  \\\n",
       "length                 -0.276102 -0.179971          0.115450 -0.110641   \n",
       "popularity              0.244712  0.075284         -0.086647 -0.057577   \n",
       "danceability            1.000000  0.464026         -0.365156  0.006982   \n",
       "acousticness           -0.513074 -0.823625          0.598887 -0.154202   \n",
       "danceability.1          1.000000  0.464026         -0.365156  0.006982   \n",
       "energy                  0.464026  1.000000         -0.575925  0.276388   \n",
       "instrumentalness       -0.365156 -0.575925          1.000000 -0.144997   \n",
       "liveness                0.006982  0.276388         -0.144997  1.000000   \n",
       "loudness                0.504650  0.807139         -0.798679  0.229931   \n",
       "speechiness             0.227847  0.209695         -0.110301  0.033623   \n",
       "tempo                  -0.084359  0.011353          0.173111  0.117717   \n",
       "time_signature          0.425669  0.341493         -0.202861 -0.233460   \n",
       "\n",
       "                  loudness  speechiness     tempo  time_signature  \n",
       "length           -0.131227    -0.301603 -0.028351       -0.019281  \n",
       "popularity        0.097159     0.156466  0.136576        0.281459  \n",
       "danceability      0.504650     0.227847 -0.084359        0.425669  \n",
       "acousticness     -0.698539    -0.103277  0.042840       -0.330490  \n",
       "danceability.1    0.504650     0.227847 -0.084359        0.425669  \n",
       "energy            0.807139     0.209695  0.011353        0.341493  \n",
       "instrumentalness -0.798679    -0.110301  0.173111       -0.202861  \n",
       "liveness          0.229931     0.033623  0.117717       -0.233460  \n",
       "loudness          1.000000     0.108249 -0.072173        0.382782  \n",
       "speechiness       0.108249     1.000000 -0.086194        0.125356  \n",
       "tempo            -0.072173    -0.086194  1.000000       -0.019247  \n",
       "time_signature    0.382782     0.125356 -0.019247        1.000000  "
      ]
     },
     "execution_count": 6,
     "metadata": {},
     "output_type": "execute_result"
    }
   ],
   "source": [
    "data.corr()"
   ]
  },
  {
   "cell_type": "code",
   "execution_count": 7,
   "metadata": {},
   "outputs": [
    {
     "data": {
      "text/plain": [
       "name                0\n",
       "artist              0\n",
       "release_date        0\n",
       "length              0\n",
       "popularity          0\n",
       "danceability        0\n",
       "acousticness        0\n",
       "danceability.1      0\n",
       "energy              0\n",
       "instrumentalness    0\n",
       "liveness            0\n",
       "loudness            0\n",
       "speechiness         0\n",
       "tempo               0\n",
       "time_signature      0\n",
       "dtype: int64"
      ]
     },
     "execution_count": 7,
     "metadata": {},
     "output_type": "execute_result"
    }
   ],
   "source": [
    "data.isnull().sum()"
   ]
  },
  {
   "cell_type": "code",
   "execution_count": 8,
   "metadata": {},
   "outputs": [
    {
     "data": {
      "text/plain": [
       "name                 object\n",
       "artist               object\n",
       "release_date         object\n",
       "length                int64\n",
       "popularity            int64\n",
       "danceability        float64\n",
       "acousticness        float64\n",
       "danceability.1      float64\n",
       "energy              float64\n",
       "instrumentalness    float64\n",
       "liveness            float64\n",
       "loudness            float64\n",
       "speechiness         float64\n",
       "tempo               float64\n",
       "time_signature        int64\n",
       "dtype: object"
      ]
     },
     "execution_count": 8,
     "metadata": {},
     "output_type": "execute_result"
    }
   ],
   "source": [
    "data.dtypes"
   ]
  },
  {
   "cell_type": "code",
   "execution_count": 9,
   "metadata": {},
   "outputs": [
    {
     "data": {
      "text/html": [
       "<div>\n",
       "<style scoped>\n",
       "    .dataframe tbody tr th:only-of-type {\n",
       "        vertical-align: middle;\n",
       "    }\n",
       "\n",
       "    .dataframe tbody tr th {\n",
       "        vertical-align: top;\n",
       "    }\n",
       "\n",
       "    .dataframe thead th {\n",
       "        text-align: right;\n",
       "    }\n",
       "</style>\n",
       "<table border=\"1\" class=\"dataframe\">\n",
       "  <thead>\n",
       "    <tr style=\"text-align: right;\">\n",
       "      <th></th>\n",
       "      <th>name</th>\n",
       "      <th>artist</th>\n",
       "      <th>release_date</th>\n",
       "      <th>length</th>\n",
       "      <th>popularity</th>\n",
       "      <th>danceability</th>\n",
       "      <th>acousticness</th>\n",
       "      <th>danceability.1</th>\n",
       "      <th>energy</th>\n",
       "      <th>instrumentalness</th>\n",
       "      <th>liveness</th>\n",
       "      <th>loudness</th>\n",
       "      <th>speechiness</th>\n",
       "      <th>tempo</th>\n",
       "      <th>time_signature</th>\n",
       "    </tr>\n",
       "  </thead>\n",
       "  <tbody>\n",
       "    <tr>\n",
       "      <td>0</td>\n",
       "      <td>I Will Always Love You</td>\n",
       "      <td>Whitney Houston</td>\n",
       "      <td>1992-11-17</td>\n",
       "      <td>271093</td>\n",
       "      <td>77</td>\n",
       "      <td>0.306</td>\n",
       "      <td>0.8440</td>\n",
       "      <td>0.306</td>\n",
       "      <td>0.214</td>\n",
       "      <td>0.000005</td>\n",
       "      <td>0.0839</td>\n",
       "      <td>-12.518</td>\n",
       "      <td>0.0356</td>\n",
       "      <td>66.980</td>\n",
       "      <td>4</td>\n",
       "    </tr>\n",
       "    <tr>\n",
       "      <td>1</td>\n",
       "      <td>Love of the Common People</td>\n",
       "      <td>Paul Young</td>\n",
       "      <td>1991-09-07</td>\n",
       "      <td>220733</td>\n",
       "      <td>56</td>\n",
       "      <td>0.744</td>\n",
       "      <td>0.0883</td>\n",
       "      <td>0.744</td>\n",
       "      <td>0.609</td>\n",
       "      <td>0.000000</td>\n",
       "      <td>0.0599</td>\n",
       "      <td>-11.202</td>\n",
       "      <td>0.0758</td>\n",
       "      <td>90.723</td>\n",
       "      <td>4</td>\n",
       "    </tr>\n",
       "    <tr>\n",
       "      <td>2</td>\n",
       "      <td>Because I Love You</td>\n",
       "      <td>Shakin' Stevens</td>\n",
       "      <td>1997-01-01</td>\n",
       "      <td>197600</td>\n",
       "      <td>40</td>\n",
       "      <td>0.587</td>\n",
       "      <td>0.2440</td>\n",
       "      <td>0.587</td>\n",
       "      <td>0.343</td>\n",
       "      <td>0.000120</td>\n",
       "      <td>0.1180</td>\n",
       "      <td>-12.891</td>\n",
       "      <td>0.0255</td>\n",
       "      <td>102.070</td>\n",
       "      <td>4</td>\n",
       "    </tr>\n",
       "    <tr>\n",
       "      <td>3</td>\n",
       "      <td>Song For Zula</td>\n",
       "      <td>Phosphorescent</td>\n",
       "      <td>2013-10-29</td>\n",
       "      <td>370200</td>\n",
       "      <td>59</td>\n",
       "      <td>0.492</td>\n",
       "      <td>0.7290</td>\n",
       "      <td>0.492</td>\n",
       "      <td>0.626</td>\n",
       "      <td>0.533000</td>\n",
       "      <td>0.0509</td>\n",
       "      <td>-8.260</td>\n",
       "      <td>0.0349</td>\n",
       "      <td>86.016</td>\n",
       "      <td>4</td>\n",
       "    </tr>\n",
       "    <tr>\n",
       "      <td>4</td>\n",
       "      <td>Song for Zula</td>\n",
       "      <td>Ronnie Fauss</td>\n",
       "      <td>2014-11-04</td>\n",
       "      <td>296840</td>\n",
       "      <td>31</td>\n",
       "      <td>0.506</td>\n",
       "      <td>0.7340</td>\n",
       "      <td>0.506</td>\n",
       "      <td>0.422</td>\n",
       "      <td>0.000013</td>\n",
       "      <td>0.0737</td>\n",
       "      <td>-6.931</td>\n",
       "      <td>0.0246</td>\n",
       "      <td>142.009</td>\n",
       "      <td>4</td>\n",
       "    </tr>\n",
       "  </tbody>\n",
       "</table>\n",
       "</div>"
      ],
      "text/plain": [
       "                        name           artist release_date  length  \\\n",
       "0     I Will Always Love You  Whitney Houston   1992-11-17  271093   \n",
       "1  Love of the Common People       Paul Young   1991-09-07  220733   \n",
       "2         Because I Love You  Shakin' Stevens   1997-01-01  197600   \n",
       "3              Song For Zula   Phosphorescent   2013-10-29  370200   \n",
       "4              Song for Zula     Ronnie Fauss   2014-11-04  296840   \n",
       "\n",
       "   popularity  danceability  acousticness  danceability.1  energy  \\\n",
       "0          77         0.306        0.8440           0.306   0.214   \n",
       "1          56         0.744        0.0883           0.744   0.609   \n",
       "2          40         0.587        0.2440           0.587   0.343   \n",
       "3          59         0.492        0.7290           0.492   0.626   \n",
       "4          31         0.506        0.7340           0.506   0.422   \n",
       "\n",
       "   instrumentalness  liveness  loudness  speechiness    tempo  time_signature  \n",
       "0          0.000005    0.0839   -12.518       0.0356   66.980               4  \n",
       "1          0.000000    0.0599   -11.202       0.0758   90.723               4  \n",
       "2          0.000120    0.1180   -12.891       0.0255  102.070               4  \n",
       "3          0.533000    0.0509    -8.260       0.0349   86.016               4  \n",
       "4          0.000013    0.0737    -6.931       0.0246  142.009               4  "
      ]
     },
     "execution_count": 9,
     "metadata": {},
     "output_type": "execute_result"
    }
   ],
   "source": [
    "data.head()"
   ]
  },
  {
   "cell_type": "code",
   "execution_count": 10,
   "metadata": {},
   "outputs": [],
   "source": [
    "data['release_date']=data['release_date'].str.split('-')"
   ]
  },
  {
   "cell_type": "code",
   "execution_count": 11,
   "metadata": {},
   "outputs": [],
   "source": [
    "for i in range(len(data['release_date'])):\n",
    "    if len(data['release_date'][i])==1:\n",
    "        data['release_date'][i].append(0);\n",
    "        data['release_date'][i].append(0);\n",
    "    elif len(data['release_date'][i])==2:\n",
    "        data['release_date'][i].append(0);"
   ]
  },
  {
   "cell_type": "code",
   "execution_count": 12,
   "metadata": {},
   "outputs": [
    {
     "name": "stdout",
     "output_type": "stream",
     "text": [
      "0\n"
     ]
    }
   ],
   "source": [
    "print(data['release_date'][8][1])"
   ]
  },
  {
   "cell_type": "code",
   "execution_count": 13,
   "metadata": {},
   "outputs": [
    {
     "name": "stderr",
     "output_type": "stream",
     "text": [
      "C:\\Users\\LENOVO\\Anaconda3\\lib\\site-packages\\ipykernel_launcher.py:4: SettingWithCopyWarning: \n",
      "A value is trying to be set on a copy of a slice from a DataFrame\n",
      "\n",
      "See the caveats in the documentation: http://pandas.pydata.org/pandas-docs/stable/user_guide/indexing.html#returning-a-view-versus-a-copy\n",
      "  after removing the cwd from sys.path.\n"
     ]
    }
   ],
   "source": [
    "for i in range(0,len(data['release_date'])):\n",
    "    data['release_year']=0;\n",
    "for i in range(0,len(data['release_date'])):\n",
    "    data['release_year'][i]=(data['release_date'][i][0])"
   ]
  },
  {
   "cell_type": "code",
   "execution_count": 14,
   "metadata": {},
   "outputs": [
    {
     "data": {
      "text/html": [
       "<div>\n",
       "<style scoped>\n",
       "    .dataframe tbody tr th:only-of-type {\n",
       "        vertical-align: middle;\n",
       "    }\n",
       "\n",
       "    .dataframe tbody tr th {\n",
       "        vertical-align: top;\n",
       "    }\n",
       "\n",
       "    .dataframe thead th {\n",
       "        text-align: right;\n",
       "    }\n",
       "</style>\n",
       "<table border=\"1\" class=\"dataframe\">\n",
       "  <thead>\n",
       "    <tr style=\"text-align: right;\">\n",
       "      <th></th>\n",
       "      <th>name</th>\n",
       "      <th>artist</th>\n",
       "      <th>release_date</th>\n",
       "      <th>length</th>\n",
       "      <th>popularity</th>\n",
       "      <th>danceability</th>\n",
       "      <th>acousticness</th>\n",
       "      <th>danceability.1</th>\n",
       "      <th>energy</th>\n",
       "      <th>instrumentalness</th>\n",
       "      <th>liveness</th>\n",
       "      <th>loudness</th>\n",
       "      <th>speechiness</th>\n",
       "      <th>tempo</th>\n",
       "      <th>time_signature</th>\n",
       "      <th>release_year</th>\n",
       "    </tr>\n",
       "  </thead>\n",
       "  <tbody>\n",
       "    <tr>\n",
       "      <td>0</td>\n",
       "      <td>I Will Always Love You</td>\n",
       "      <td>Whitney Houston</td>\n",
       "      <td>[1992, 11, 17]</td>\n",
       "      <td>271093</td>\n",
       "      <td>77</td>\n",
       "      <td>0.306</td>\n",
       "      <td>0.8440</td>\n",
       "      <td>0.306</td>\n",
       "      <td>0.214</td>\n",
       "      <td>0.000005</td>\n",
       "      <td>0.0839</td>\n",
       "      <td>-12.518</td>\n",
       "      <td>0.0356</td>\n",
       "      <td>66.980</td>\n",
       "      <td>4</td>\n",
       "      <td>1992</td>\n",
       "    </tr>\n",
       "    <tr>\n",
       "      <td>1</td>\n",
       "      <td>Love of the Common People</td>\n",
       "      <td>Paul Young</td>\n",
       "      <td>[1991, 09, 07]</td>\n",
       "      <td>220733</td>\n",
       "      <td>56</td>\n",
       "      <td>0.744</td>\n",
       "      <td>0.0883</td>\n",
       "      <td>0.744</td>\n",
       "      <td>0.609</td>\n",
       "      <td>0.000000</td>\n",
       "      <td>0.0599</td>\n",
       "      <td>-11.202</td>\n",
       "      <td>0.0758</td>\n",
       "      <td>90.723</td>\n",
       "      <td>4</td>\n",
       "      <td>1991</td>\n",
       "    </tr>\n",
       "    <tr>\n",
       "      <td>2</td>\n",
       "      <td>Because I Love You</td>\n",
       "      <td>Shakin' Stevens</td>\n",
       "      <td>[1997, 01, 01]</td>\n",
       "      <td>197600</td>\n",
       "      <td>40</td>\n",
       "      <td>0.587</td>\n",
       "      <td>0.2440</td>\n",
       "      <td>0.587</td>\n",
       "      <td>0.343</td>\n",
       "      <td>0.000120</td>\n",
       "      <td>0.1180</td>\n",
       "      <td>-12.891</td>\n",
       "      <td>0.0255</td>\n",
       "      <td>102.070</td>\n",
       "      <td>4</td>\n",
       "      <td>1997</td>\n",
       "    </tr>\n",
       "    <tr>\n",
       "      <td>3</td>\n",
       "      <td>Song For Zula</td>\n",
       "      <td>Phosphorescent</td>\n",
       "      <td>[2013, 10, 29]</td>\n",
       "      <td>370200</td>\n",
       "      <td>59</td>\n",
       "      <td>0.492</td>\n",
       "      <td>0.7290</td>\n",
       "      <td>0.492</td>\n",
       "      <td>0.626</td>\n",
       "      <td>0.533000</td>\n",
       "      <td>0.0509</td>\n",
       "      <td>-8.260</td>\n",
       "      <td>0.0349</td>\n",
       "      <td>86.016</td>\n",
       "      <td>4</td>\n",
       "      <td>2013</td>\n",
       "    </tr>\n",
       "    <tr>\n",
       "      <td>4</td>\n",
       "      <td>Song for Zula</td>\n",
       "      <td>Ronnie Fauss</td>\n",
       "      <td>[2014, 11, 04]</td>\n",
       "      <td>296840</td>\n",
       "      <td>31</td>\n",
       "      <td>0.506</td>\n",
       "      <td>0.7340</td>\n",
       "      <td>0.506</td>\n",
       "      <td>0.422</td>\n",
       "      <td>0.000013</td>\n",
       "      <td>0.0737</td>\n",
       "      <td>-6.931</td>\n",
       "      <td>0.0246</td>\n",
       "      <td>142.009</td>\n",
       "      <td>4</td>\n",
       "      <td>2014</td>\n",
       "    </tr>\n",
       "  </tbody>\n",
       "</table>\n",
       "</div>"
      ],
      "text/plain": [
       "                        name           artist    release_date  length  \\\n",
       "0     I Will Always Love You  Whitney Houston  [1992, 11, 17]  271093   \n",
       "1  Love of the Common People       Paul Young  [1991, 09, 07]  220733   \n",
       "2         Because I Love You  Shakin' Stevens  [1997, 01, 01]  197600   \n",
       "3              Song For Zula   Phosphorescent  [2013, 10, 29]  370200   \n",
       "4              Song for Zula     Ronnie Fauss  [2014, 11, 04]  296840   \n",
       "\n",
       "   popularity  danceability  acousticness  danceability.1  energy  \\\n",
       "0          77         0.306        0.8440           0.306   0.214   \n",
       "1          56         0.744        0.0883           0.744   0.609   \n",
       "2          40         0.587        0.2440           0.587   0.343   \n",
       "3          59         0.492        0.7290           0.492   0.626   \n",
       "4          31         0.506        0.7340           0.506   0.422   \n",
       "\n",
       "   instrumentalness  liveness  loudness  speechiness    tempo  time_signature  \\\n",
       "0          0.000005    0.0839   -12.518       0.0356   66.980               4   \n",
       "1          0.000000    0.0599   -11.202       0.0758   90.723               4   \n",
       "2          0.000120    0.1180   -12.891       0.0255  102.070               4   \n",
       "3          0.533000    0.0509    -8.260       0.0349   86.016               4   \n",
       "4          0.000013    0.0737    -6.931       0.0246  142.009               4   \n",
       "\n",
       "   release_year  \n",
       "0          1992  \n",
       "1          1991  \n",
       "2          1997  \n",
       "3          2013  \n",
       "4          2014  "
      ]
     },
     "execution_count": 14,
     "metadata": {},
     "output_type": "execute_result"
    }
   ],
   "source": [
    "data.head()"
   ]
  },
  {
   "cell_type": "code",
   "execution_count": 15,
   "metadata": {},
   "outputs": [
    {
     "name": "stderr",
     "output_type": "stream",
     "text": [
      "C:\\Users\\LENOVO\\Anaconda3\\lib\\site-packages\\ipykernel_launcher.py:4: SettingWithCopyWarning: \n",
      "A value is trying to be set on a copy of a slice from a DataFrame\n",
      "\n",
      "See the caveats in the documentation: http://pandas.pydata.org/pandas-docs/stable/user_guide/indexing.html#returning-a-view-versus-a-copy\n",
      "  after removing the cwd from sys.path.\n"
     ]
    }
   ],
   "source": [
    "for i in range(0,len(data['release_date'])):\n",
    "    data['release_month']=0;\n",
    "for i in range(0,len(data['release_date'])):\n",
    "    data['release_month'][i]=data['release_date'][i][1]"
   ]
  },
  {
   "cell_type": "code",
   "execution_count": 16,
   "metadata": {},
   "outputs": [
    {
     "name": "stderr",
     "output_type": "stream",
     "text": [
      "C:\\Users\\LENOVO\\Anaconda3\\lib\\site-packages\\ipykernel_launcher.py:4: SettingWithCopyWarning: \n",
      "A value is trying to be set on a copy of a slice from a DataFrame\n",
      "\n",
      "See the caveats in the documentation: http://pandas.pydata.org/pandas-docs/stable/user_guide/indexing.html#returning-a-view-versus-a-copy\n",
      "  after removing the cwd from sys.path.\n"
     ]
    }
   ],
   "source": [
    "for i in range(0,len(data['release_date'])):\n",
    "    data['release_day']=0;\n",
    "for i in range(0,len(data['release_date'])):\n",
    "    data['release_day'][i]=data['release_date'][i][2]"
   ]
  },
  {
   "cell_type": "code",
   "execution_count": 17,
   "metadata": {},
   "outputs": [
    {
     "data": {
      "text/html": [
       "<div>\n",
       "<style scoped>\n",
       "    .dataframe tbody tr th:only-of-type {\n",
       "        vertical-align: middle;\n",
       "    }\n",
       "\n",
       "    .dataframe tbody tr th {\n",
       "        vertical-align: top;\n",
       "    }\n",
       "\n",
       "    .dataframe thead th {\n",
       "        text-align: right;\n",
       "    }\n",
       "</style>\n",
       "<table border=\"1\" class=\"dataframe\">\n",
       "  <thead>\n",
       "    <tr style=\"text-align: right;\">\n",
       "      <th></th>\n",
       "      <th>name</th>\n",
       "      <th>artist</th>\n",
       "      <th>release_date</th>\n",
       "      <th>length</th>\n",
       "      <th>popularity</th>\n",
       "      <th>danceability</th>\n",
       "      <th>acousticness</th>\n",
       "      <th>danceability.1</th>\n",
       "      <th>energy</th>\n",
       "      <th>instrumentalness</th>\n",
       "      <th>liveness</th>\n",
       "      <th>loudness</th>\n",
       "      <th>speechiness</th>\n",
       "      <th>tempo</th>\n",
       "      <th>time_signature</th>\n",
       "      <th>release_year</th>\n",
       "      <th>release_month</th>\n",
       "      <th>release_day</th>\n",
       "    </tr>\n",
       "  </thead>\n",
       "  <tbody>\n",
       "    <tr>\n",
       "      <td>0</td>\n",
       "      <td>I Will Always Love You</td>\n",
       "      <td>Whitney Houston</td>\n",
       "      <td>[1992, 11, 17]</td>\n",
       "      <td>271093</td>\n",
       "      <td>77</td>\n",
       "      <td>0.306</td>\n",
       "      <td>0.8440</td>\n",
       "      <td>0.306</td>\n",
       "      <td>0.214</td>\n",
       "      <td>0.000005</td>\n",
       "      <td>0.0839</td>\n",
       "      <td>-12.518</td>\n",
       "      <td>0.0356</td>\n",
       "      <td>66.980</td>\n",
       "      <td>4</td>\n",
       "      <td>1992</td>\n",
       "      <td>11</td>\n",
       "      <td>17</td>\n",
       "    </tr>\n",
       "    <tr>\n",
       "      <td>1</td>\n",
       "      <td>Love of the Common People</td>\n",
       "      <td>Paul Young</td>\n",
       "      <td>[1991, 09, 07]</td>\n",
       "      <td>220733</td>\n",
       "      <td>56</td>\n",
       "      <td>0.744</td>\n",
       "      <td>0.0883</td>\n",
       "      <td>0.744</td>\n",
       "      <td>0.609</td>\n",
       "      <td>0.000000</td>\n",
       "      <td>0.0599</td>\n",
       "      <td>-11.202</td>\n",
       "      <td>0.0758</td>\n",
       "      <td>90.723</td>\n",
       "      <td>4</td>\n",
       "      <td>1991</td>\n",
       "      <td>9</td>\n",
       "      <td>7</td>\n",
       "    </tr>\n",
       "    <tr>\n",
       "      <td>2</td>\n",
       "      <td>Because I Love You</td>\n",
       "      <td>Shakin' Stevens</td>\n",
       "      <td>[1997, 01, 01]</td>\n",
       "      <td>197600</td>\n",
       "      <td>40</td>\n",
       "      <td>0.587</td>\n",
       "      <td>0.2440</td>\n",
       "      <td>0.587</td>\n",
       "      <td>0.343</td>\n",
       "      <td>0.000120</td>\n",
       "      <td>0.1180</td>\n",
       "      <td>-12.891</td>\n",
       "      <td>0.0255</td>\n",
       "      <td>102.070</td>\n",
       "      <td>4</td>\n",
       "      <td>1997</td>\n",
       "      <td>1</td>\n",
       "      <td>1</td>\n",
       "    </tr>\n",
       "    <tr>\n",
       "      <td>3</td>\n",
       "      <td>Song For Zula</td>\n",
       "      <td>Phosphorescent</td>\n",
       "      <td>[2013, 10, 29]</td>\n",
       "      <td>370200</td>\n",
       "      <td>59</td>\n",
       "      <td>0.492</td>\n",
       "      <td>0.7290</td>\n",
       "      <td>0.492</td>\n",
       "      <td>0.626</td>\n",
       "      <td>0.533000</td>\n",
       "      <td>0.0509</td>\n",
       "      <td>-8.260</td>\n",
       "      <td>0.0349</td>\n",
       "      <td>86.016</td>\n",
       "      <td>4</td>\n",
       "      <td>2013</td>\n",
       "      <td>10</td>\n",
       "      <td>29</td>\n",
       "    </tr>\n",
       "    <tr>\n",
       "      <td>4</td>\n",
       "      <td>Song for Zula</td>\n",
       "      <td>Ronnie Fauss</td>\n",
       "      <td>[2014, 11, 04]</td>\n",
       "      <td>296840</td>\n",
       "      <td>31</td>\n",
       "      <td>0.506</td>\n",
       "      <td>0.7340</td>\n",
       "      <td>0.506</td>\n",
       "      <td>0.422</td>\n",
       "      <td>0.000013</td>\n",
       "      <td>0.0737</td>\n",
       "      <td>-6.931</td>\n",
       "      <td>0.0246</td>\n",
       "      <td>142.009</td>\n",
       "      <td>4</td>\n",
       "      <td>2014</td>\n",
       "      <td>11</td>\n",
       "      <td>4</td>\n",
       "    </tr>\n",
       "  </tbody>\n",
       "</table>\n",
       "</div>"
      ],
      "text/plain": [
       "                        name           artist    release_date  length  \\\n",
       "0     I Will Always Love You  Whitney Houston  [1992, 11, 17]  271093   \n",
       "1  Love of the Common People       Paul Young  [1991, 09, 07]  220733   \n",
       "2         Because I Love You  Shakin' Stevens  [1997, 01, 01]  197600   \n",
       "3              Song For Zula   Phosphorescent  [2013, 10, 29]  370200   \n",
       "4              Song for Zula     Ronnie Fauss  [2014, 11, 04]  296840   \n",
       "\n",
       "   popularity  danceability  acousticness  danceability.1  energy  \\\n",
       "0          77         0.306        0.8440           0.306   0.214   \n",
       "1          56         0.744        0.0883           0.744   0.609   \n",
       "2          40         0.587        0.2440           0.587   0.343   \n",
       "3          59         0.492        0.7290           0.492   0.626   \n",
       "4          31         0.506        0.7340           0.506   0.422   \n",
       "\n",
       "   instrumentalness  liveness  loudness  speechiness    tempo  time_signature  \\\n",
       "0          0.000005    0.0839   -12.518       0.0356   66.980               4   \n",
       "1          0.000000    0.0599   -11.202       0.0758   90.723               4   \n",
       "2          0.000120    0.1180   -12.891       0.0255  102.070               4   \n",
       "3          0.533000    0.0509    -8.260       0.0349   86.016               4   \n",
       "4          0.000013    0.0737    -6.931       0.0246  142.009               4   \n",
       "\n",
       "   release_year  release_month  release_day  \n",
       "0          1992             11           17  \n",
       "1          1991              9            7  \n",
       "2          1997              1            1  \n",
       "3          2013             10           29  \n",
       "4          2014             11            4  "
      ]
     },
     "execution_count": 17,
     "metadata": {},
     "output_type": "execute_result"
    }
   ],
   "source": [
    "data.head()"
   ]
  },
  {
   "cell_type": "code",
   "execution_count": 18,
   "metadata": {},
   "outputs": [],
   "source": [
    "data=data.drop(columns=['release_date'])"
   ]
  },
  {
   "cell_type": "code",
   "execution_count": 19,
   "metadata": {},
   "outputs": [
    {
     "data": {
      "text/plain": [
       "name                 object\n",
       "artist               object\n",
       "length                int64\n",
       "popularity            int64\n",
       "danceability        float64\n",
       "acousticness        float64\n",
       "danceability.1      float64\n",
       "energy              float64\n",
       "instrumentalness    float64\n",
       "liveness            float64\n",
       "loudness            float64\n",
       "speechiness         float64\n",
       "tempo               float64\n",
       "time_signature        int64\n",
       "release_year          int64\n",
       "release_month         int64\n",
       "release_day           int64\n",
       "dtype: object"
      ]
     },
     "execution_count": 19,
     "metadata": {},
     "output_type": "execute_result"
    }
   ],
   "source": [
    "data.dtypes"
   ]
  },
  {
   "cell_type": "code",
   "execution_count": 20,
   "metadata": {},
   "outputs": [
    {
     "data": {
      "text/html": [
       "<div>\n",
       "<style scoped>\n",
       "    .dataframe tbody tr th:only-of-type {\n",
       "        vertical-align: middle;\n",
       "    }\n",
       "\n",
       "    .dataframe tbody tr th {\n",
       "        vertical-align: top;\n",
       "    }\n",
       "\n",
       "    .dataframe thead th {\n",
       "        text-align: right;\n",
       "    }\n",
       "</style>\n",
       "<table border=\"1\" class=\"dataframe\">\n",
       "  <thead>\n",
       "    <tr style=\"text-align: right;\">\n",
       "      <th></th>\n",
       "      <th>length</th>\n",
       "      <th>popularity</th>\n",
       "      <th>danceability</th>\n",
       "      <th>acousticness</th>\n",
       "      <th>danceability.1</th>\n",
       "      <th>energy</th>\n",
       "      <th>instrumentalness</th>\n",
       "      <th>liveness</th>\n",
       "      <th>loudness</th>\n",
       "      <th>speechiness</th>\n",
       "      <th>tempo</th>\n",
       "      <th>time_signature</th>\n",
       "      <th>release_year</th>\n",
       "      <th>release_month</th>\n",
       "      <th>release_day</th>\n",
       "    </tr>\n",
       "  </thead>\n",
       "  <tbody>\n",
       "    <tr>\n",
       "      <td>count</td>\n",
       "      <td>100.000000</td>\n",
       "      <td>100.000000</td>\n",
       "      <td>100.000000</td>\n",
       "      <td>100.000000</td>\n",
       "      <td>100.000000</td>\n",
       "      <td>100.000000</td>\n",
       "      <td>100.000000</td>\n",
       "      <td>100.000000</td>\n",
       "      <td>100.000000</td>\n",
       "      <td>100.000000</td>\n",
       "      <td>100.000000</td>\n",
       "      <td>100.000000</td>\n",
       "      <td>100.000000</td>\n",
       "      <td>100.000000</td>\n",
       "      <td>100.000000</td>\n",
       "    </tr>\n",
       "    <tr>\n",
       "      <td>mean</td>\n",
       "      <td>213240.770000</td>\n",
       "      <td>61.760000</td>\n",
       "      <td>0.625380</td>\n",
       "      <td>0.298293</td>\n",
       "      <td>0.625380</td>\n",
       "      <td>0.594255</td>\n",
       "      <td>0.072467</td>\n",
       "      <td>0.170778</td>\n",
       "      <td>-7.264860</td>\n",
       "      <td>0.081449</td>\n",
       "      <td>114.564920</td>\n",
       "      <td>3.960000</td>\n",
       "      <td>2014.010000</td>\n",
       "      <td>6.030000</td>\n",
       "      <td>14.810000</td>\n",
       "    </tr>\n",
       "    <tr>\n",
       "      <td>std</td>\n",
       "      <td>37553.323588</td>\n",
       "      <td>22.967311</td>\n",
       "      <td>0.153444</td>\n",
       "      <td>0.328817</td>\n",
       "      <td>0.153444</td>\n",
       "      <td>0.213149</td>\n",
       "      <td>0.236428</td>\n",
       "      <td>0.112697</td>\n",
       "      <td>4.239447</td>\n",
       "      <td>0.071516</td>\n",
       "      <td>25.289147</td>\n",
       "      <td>0.196946</td>\n",
       "      <td>7.104551</td>\n",
       "      <td>3.846696</td>\n",
       "      <td>9.489702</td>\n",
       "    </tr>\n",
       "    <tr>\n",
       "      <td>min</td>\n",
       "      <td>118600.000000</td>\n",
       "      <td>1.000000</td>\n",
       "      <td>0.157000</td>\n",
       "      <td>0.000688</td>\n",
       "      <td>0.157000</td>\n",
       "      <td>0.023800</td>\n",
       "      <td>0.000000</td>\n",
       "      <td>0.050900</td>\n",
       "      <td>-23.562000</td>\n",
       "      <td>0.024600</td>\n",
       "      <td>61.975000</td>\n",
       "      <td>3.000000</td>\n",
       "      <td>1979.000000</td>\n",
       "      <td>0.000000</td>\n",
       "      <td>0.000000</td>\n",
       "    </tr>\n",
       "    <tr>\n",
       "      <td>25%</td>\n",
       "      <td>192103.250000</td>\n",
       "      <td>43.500000</td>\n",
       "      <td>0.558500</td>\n",
       "      <td>0.040075</td>\n",
       "      <td>0.558500</td>\n",
       "      <td>0.446750</td>\n",
       "      <td>0.000000</td>\n",
       "      <td>0.093475</td>\n",
       "      <td>-8.034000</td>\n",
       "      <td>0.036600</td>\n",
       "      <td>96.765250</td>\n",
       "      <td>4.000000</td>\n",
       "      <td>2013.000000</td>\n",
       "      <td>2.000000</td>\n",
       "      <td>7.000000</td>\n",
       "    </tr>\n",
       "    <tr>\n",
       "      <td>50%</td>\n",
       "      <td>209660.000000</td>\n",
       "      <td>68.000000</td>\n",
       "      <td>0.660000</td>\n",
       "      <td>0.169500</td>\n",
       "      <td>0.660000</td>\n",
       "      <td>0.651500</td>\n",
       "      <td>0.000001</td>\n",
       "      <td>0.124000</td>\n",
       "      <td>-6.004500</td>\n",
       "      <td>0.054150</td>\n",
       "      <td>111.444500</td>\n",
       "      <td>4.000000</td>\n",
       "      <td>2016.000000</td>\n",
       "      <td>6.000000</td>\n",
       "      <td>15.000000</td>\n",
       "    </tr>\n",
       "    <tr>\n",
       "      <td>75%</td>\n",
       "      <td>227193.000000</td>\n",
       "      <td>78.250000</td>\n",
       "      <td>0.728250</td>\n",
       "      <td>0.535250</td>\n",
       "      <td>0.728250</td>\n",
       "      <td>0.744000</td>\n",
       "      <td>0.000120</td>\n",
       "      <td>0.217500</td>\n",
       "      <td>-4.784000</td>\n",
       "      <td>0.091025</td>\n",
       "      <td>129.476250</td>\n",
       "      <td>4.000000</td>\n",
       "      <td>2019.000000</td>\n",
       "      <td>10.000000</td>\n",
       "      <td>23.000000</td>\n",
       "    </tr>\n",
       "    <tr>\n",
       "      <td>max</td>\n",
       "      <td>370200.000000</td>\n",
       "      <td>95.000000</td>\n",
       "      <td>0.903000</td>\n",
       "      <td>0.990000</td>\n",
       "      <td>0.903000</td>\n",
       "      <td>0.955000</td>\n",
       "      <td>0.978000</td>\n",
       "      <td>0.638000</td>\n",
       "      <td>-2.528000</td>\n",
       "      <td>0.375000</td>\n",
       "      <td>189.857000</td>\n",
       "      <td>4.000000</td>\n",
       "      <td>2020.000000</td>\n",
       "      <td>12.000000</td>\n",
       "      <td>31.000000</td>\n",
       "    </tr>\n",
       "  </tbody>\n",
       "</table>\n",
       "</div>"
      ],
      "text/plain": [
       "              length  popularity  danceability  acousticness  danceability.1  \\\n",
       "count     100.000000  100.000000    100.000000    100.000000      100.000000   \n",
       "mean   213240.770000   61.760000      0.625380      0.298293        0.625380   \n",
       "std     37553.323588   22.967311      0.153444      0.328817        0.153444   \n",
       "min    118600.000000    1.000000      0.157000      0.000688        0.157000   \n",
       "25%    192103.250000   43.500000      0.558500      0.040075        0.558500   \n",
       "50%    209660.000000   68.000000      0.660000      0.169500        0.660000   \n",
       "75%    227193.000000   78.250000      0.728250      0.535250        0.728250   \n",
       "max    370200.000000   95.000000      0.903000      0.990000        0.903000   \n",
       "\n",
       "           energy  instrumentalness    liveness    loudness  speechiness  \\\n",
       "count  100.000000        100.000000  100.000000  100.000000   100.000000   \n",
       "mean     0.594255          0.072467    0.170778   -7.264860     0.081449   \n",
       "std      0.213149          0.236428    0.112697    4.239447     0.071516   \n",
       "min      0.023800          0.000000    0.050900  -23.562000     0.024600   \n",
       "25%      0.446750          0.000000    0.093475   -8.034000     0.036600   \n",
       "50%      0.651500          0.000001    0.124000   -6.004500     0.054150   \n",
       "75%      0.744000          0.000120    0.217500   -4.784000     0.091025   \n",
       "max      0.955000          0.978000    0.638000   -2.528000     0.375000   \n",
       "\n",
       "            tempo  time_signature  release_year  release_month  release_day  \n",
       "count  100.000000      100.000000    100.000000     100.000000   100.000000  \n",
       "mean   114.564920        3.960000   2014.010000       6.030000    14.810000  \n",
       "std     25.289147        0.196946      7.104551       3.846696     9.489702  \n",
       "min     61.975000        3.000000   1979.000000       0.000000     0.000000  \n",
       "25%     96.765250        4.000000   2013.000000       2.000000     7.000000  \n",
       "50%    111.444500        4.000000   2016.000000       6.000000    15.000000  \n",
       "75%    129.476250        4.000000   2019.000000      10.000000    23.000000  \n",
       "max    189.857000        4.000000   2020.000000      12.000000    31.000000  "
      ]
     },
     "execution_count": 20,
     "metadata": {},
     "output_type": "execute_result"
    }
   ],
   "source": [
    "data.describe()"
   ]
  },
  {
   "cell_type": "code",
   "execution_count": 21,
   "metadata": {},
   "outputs": [],
   "source": [
    "columns=data.columns"
   ]
  },
  {
   "cell_type": "code",
   "execution_count": 22,
   "metadata": {},
   "outputs": [
    {
     "name": "stdout",
     "output_type": "stream",
     "text": [
      "Index(['name', 'artist', 'length', 'popularity', 'danceability',\n",
      "       'acousticness', 'danceability.1', 'energy', 'instrumentalness',\n",
      "       'liveness', 'loudness', 'speechiness', 'tempo', 'time_signature',\n",
      "       'release_year', 'release_month', 'release_day'],\n",
      "      dtype='object')\n"
     ]
    }
   ],
   "source": [
    "print(columns)"
   ]
  },
  {
   "cell_type": "code",
   "execution_count": 23,
   "metadata": {},
   "outputs": [
    {
     "name": "stdout",
     "output_type": "stream",
     "text": [
      "name : 98\n",
      "artist : 61\n",
      "length : 100\n",
      "popularity : 56\n",
      "danceability : 92\n",
      "acousticness : 97\n",
      "danceability.1 : 92\n",
      "energy : 94\n",
      "instrumentalness : 50\n",
      "liveness : 90\n",
      "loudness : 100\n",
      "speechiness : 96\n",
      "tempo : 100\n",
      "time_signature : 2\n",
      "release_year : 20\n",
      "release_month : 13\n",
      "release_day : 25\n"
     ]
    }
   ],
   "source": [
    "for i in columns:\n",
    "    print(\"{} : {}\".format(i,len(set(data[i]))))"
   ]
  },
  {
   "cell_type": "code",
   "execution_count": 25,
   "metadata": {},
   "outputs": [],
   "source": [
    "data=data.drop(columns=['time_signature','length','tempo','release_month','release_year','release_day'])"
   ]
  },
  {
   "cell_type": "code",
   "execution_count": 26,
   "metadata": {},
   "outputs": [
    {
     "data": {
      "text/html": [
       "<div>\n",
       "<style scoped>\n",
       "    .dataframe tbody tr th:only-of-type {\n",
       "        vertical-align: middle;\n",
       "    }\n",
       "\n",
       "    .dataframe tbody tr th {\n",
       "        vertical-align: top;\n",
       "    }\n",
       "\n",
       "    .dataframe thead th {\n",
       "        text-align: right;\n",
       "    }\n",
       "</style>\n",
       "<table border=\"1\" class=\"dataframe\">\n",
       "  <thead>\n",
       "    <tr style=\"text-align: right;\">\n",
       "      <th></th>\n",
       "      <th>name</th>\n",
       "      <th>artist</th>\n",
       "      <th>popularity</th>\n",
       "      <th>danceability</th>\n",
       "      <th>acousticness</th>\n",
       "      <th>danceability.1</th>\n",
       "      <th>energy</th>\n",
       "      <th>instrumentalness</th>\n",
       "      <th>liveness</th>\n",
       "      <th>loudness</th>\n",
       "      <th>speechiness</th>\n",
       "    </tr>\n",
       "  </thead>\n",
       "  <tbody>\n",
       "    <tr>\n",
       "      <td>0</td>\n",
       "      <td>I Will Always Love You</td>\n",
       "      <td>Whitney Houston</td>\n",
       "      <td>77</td>\n",
       "      <td>0.306</td>\n",
       "      <td>0.8440</td>\n",
       "      <td>0.306</td>\n",
       "      <td>0.214</td>\n",
       "      <td>0.000005</td>\n",
       "      <td>0.0839</td>\n",
       "      <td>-12.518</td>\n",
       "      <td>0.0356</td>\n",
       "    </tr>\n",
       "    <tr>\n",
       "      <td>1</td>\n",
       "      <td>Love of the Common People</td>\n",
       "      <td>Paul Young</td>\n",
       "      <td>56</td>\n",
       "      <td>0.744</td>\n",
       "      <td>0.0883</td>\n",
       "      <td>0.744</td>\n",
       "      <td>0.609</td>\n",
       "      <td>0.000000</td>\n",
       "      <td>0.0599</td>\n",
       "      <td>-11.202</td>\n",
       "      <td>0.0758</td>\n",
       "    </tr>\n",
       "    <tr>\n",
       "      <td>2</td>\n",
       "      <td>Because I Love You</td>\n",
       "      <td>Shakin' Stevens</td>\n",
       "      <td>40</td>\n",
       "      <td>0.587</td>\n",
       "      <td>0.2440</td>\n",
       "      <td>0.587</td>\n",
       "      <td>0.343</td>\n",
       "      <td>0.000120</td>\n",
       "      <td>0.1180</td>\n",
       "      <td>-12.891</td>\n",
       "      <td>0.0255</td>\n",
       "    </tr>\n",
       "    <tr>\n",
       "      <td>3</td>\n",
       "      <td>Song For Zula</td>\n",
       "      <td>Phosphorescent</td>\n",
       "      <td>59</td>\n",
       "      <td>0.492</td>\n",
       "      <td>0.7290</td>\n",
       "      <td>0.492</td>\n",
       "      <td>0.626</td>\n",
       "      <td>0.533000</td>\n",
       "      <td>0.0509</td>\n",
       "      <td>-8.260</td>\n",
       "      <td>0.0349</td>\n",
       "    </tr>\n",
       "    <tr>\n",
       "      <td>4</td>\n",
       "      <td>Song for Zula</td>\n",
       "      <td>Ronnie Fauss</td>\n",
       "      <td>31</td>\n",
       "      <td>0.506</td>\n",
       "      <td>0.7340</td>\n",
       "      <td>0.506</td>\n",
       "      <td>0.422</td>\n",
       "      <td>0.000013</td>\n",
       "      <td>0.0737</td>\n",
       "      <td>-6.931</td>\n",
       "      <td>0.0246</td>\n",
       "    </tr>\n",
       "  </tbody>\n",
       "</table>\n",
       "</div>"
      ],
      "text/plain": [
       "                        name           artist  popularity  danceability  \\\n",
       "0     I Will Always Love You  Whitney Houston          77         0.306   \n",
       "1  Love of the Common People       Paul Young          56         0.744   \n",
       "2         Because I Love You  Shakin' Stevens          40         0.587   \n",
       "3              Song For Zula   Phosphorescent          59         0.492   \n",
       "4              Song for Zula     Ronnie Fauss          31         0.506   \n",
       "\n",
       "   acousticness  danceability.1  energy  instrumentalness  liveness  loudness  \\\n",
       "0        0.8440           0.306   0.214          0.000005    0.0839   -12.518   \n",
       "1        0.0883           0.744   0.609          0.000000    0.0599   -11.202   \n",
       "2        0.2440           0.587   0.343          0.000120    0.1180   -12.891   \n",
       "3        0.7290           0.492   0.626          0.533000    0.0509    -8.260   \n",
       "4        0.7340           0.506   0.422          0.000013    0.0737    -6.931   \n",
       "\n",
       "   speechiness  \n",
       "0       0.0356  \n",
       "1       0.0758  \n",
       "2       0.0255  \n",
       "3       0.0349  \n",
       "4       0.0246  "
      ]
     },
     "execution_count": 26,
     "metadata": {},
     "output_type": "execute_result"
    }
   ],
   "source": [
    "data.head()"
   ]
  },
  {
   "cell_type": "code",
   "execution_count": 27,
   "metadata": {},
   "outputs": [],
   "source": [
    "from sklearn.preprocessing import MinMaxScaler\n",
    "mn=MinMaxScaler()\n",
    "x=data[['loudness']].values\n",
    "loudness=mn.fit_transform(x)\n",
    "data['loudness']=pd.DataFrame(loudness)"
   ]
  },
  {
   "cell_type": "code",
   "execution_count": 28,
   "metadata": {},
   "outputs": [],
   "source": [
    "mn=MinMaxScaler()\n",
    "x=data[['popularity']].values\n",
    "popularity=mn.fit_transform(x)\n",
    "data['popularity']=pd.DataFrame(popularity)"
   ]
  },
  {
   "cell_type": "code",
   "execution_count": 29,
   "metadata": {},
   "outputs": [
    {
     "data": {
      "text/plain": [
       "(100, 11)"
      ]
     },
     "execution_count": 29,
     "metadata": {},
     "output_type": "execute_result"
    }
   ],
   "source": [
    "data.shape"
   ]
  },
  {
   "cell_type": "code",
   "execution_count": 31,
   "metadata": {},
   "outputs": [
    {
     "data": {
      "text/plain": [
       "<matplotlib.axes._subplots.AxesSubplot at 0x16ddc4d5908>"
      ]
     },
     "execution_count": 31,
     "metadata": {},
     "output_type": "execute_result"
    },
    {
     "data": {
      "image/png": "[encoded data removed]",
      "text/plain": [
       "<Figure size 432x288 with 1 Axes>"
      ]
     },
     "metadata": {
      "needs_background": "light"
     },
     "output_type": "display_data"
    }
   ],
   "source": [
    "sns.distplot(data['popularity'])"
   ]
  },
  {
   "cell_type": "code",
   "execution_count": 33,
   "metadata": {},
   "outputs": [
    {
     "data": {
      "text/plain": [
       "<matplotlib.axes._subplots.AxesSubplot at 0x16ddc9b09c8>"
      ]
     },
     "execution_count": 33,
     "metadata": {},
     "output_type": "execute_result"
    },
    {
     "data": {
      "image/png": "[encoded data removed]",
      "text/plain": [
       "<Figure size 432x288 with 1 Axes>"
      ]
     },
     "metadata": {
      "needs_background": "light"
     },
     "output_type": "display_data"
    }
   ],
   "source": [
    "sns.distplot(data['danceability'])"
   ]
  },
  {
   "cell_type": "code",
   "execution_count": 34,
   "metadata": {},
   "outputs": [
    {
     "data": {
      "text/plain": [
       "<matplotlib.axes._subplots.AxesSubplot at 0x16ddca05188>"
      ]
     },
     "execution_count": 34,
     "metadata": {},
     "output_type": "execute_result"
    },
    {
     "data": {
      "image/png": "[encoded data removed]",
      "text/plain": [
       "<Figure size 432x288 with 1 Axes>"
      ]
     },
     "metadata": {
      "needs_background": "light"
     },
     "output_type": "display_data"
    }
   ],
   "source": [
    "sns.distplot(data['acousticness'])"
   ]
  },
  {
   "cell_type": "code",
   "execution_count": 35,
   "metadata": {},
   "outputs": [],
   "source": [
    "data=data.drop(columns=['danceability.1'])"
   ]
  },
  {
   "cell_type": "code",
   "execution_count": 36,
   "metadata": {},
   "outputs": [
    {
     "data": {
      "text/plain": [
       "<matplotlib.axes._subplots.AxesSubplot at 0x16ddca81788>"
      ]
     },
     "execution_count": 36,
     "metadata": {},
     "output_type": "execute_result"
    },
    {
     "data": {
      "image/png": "[encoded data removed]",
      "text/plain": [
       "<Figure size 432x288 with 1 Axes>"
      ]
     },
     "metadata": {
      "needs_background": "light"
     },
     "output_type": "display_data"
    }
   ],
   "source": [
    "sns.distplot(data['energy'])"
   ]
  },
  {
   "cell_type": "code",
   "execution_count": 37,
   "metadata": {},
   "outputs": [],
   "source": [
    "x=data.copy()"
   ]
  },
  {
   "cell_type": "code",
   "execution_count": 38,
   "metadata": {},
   "outputs": [],
   "source": [
    "x=x.drop(columns=['name','artist'])"
   ]
  },
  {
   "cell_type": "code",
   "execution_count": 40,
   "metadata": {},
   "outputs": [
    {
     "data": {
      "text/plain": [
       "(100, 8)"
      ]
     },
     "execution_count": 40,
     "metadata": {},
     "output_type": "execute_result"
    }
   ],
   "source": [
    "x.shape"
   ]
  },
  {
   "cell_type": "code",
   "execution_count": 43,
   "metadata": {},
   "outputs": [
    {
     "data": {
      "text/plain": [
       "Text(0, 0.5, 'WCSS')"
      ]
     },
     "execution_count": 43,
     "metadata": {},
     "output_type": "execute_result"
    },
    {
     "data": {
      "image/png": "[encoded data removed]",
      "text/plain": [
       "<Figure size 432x288 with 1 Axes>"
      ]
     },
     "metadata": {
      "needs_background": "light"
     },
     "output_type": "display_data"
    }
   ],
   "source": [
    "from sklearn.cluster import KMeans\n",
    "wcss=[]\n",
    "for i in range(1,9):\n",
    "    kmeans=KMeans(n_clusters=i,init='k-means++',random_state=0)\n",
    "    kmeans.fit(x)\n",
    "    wcss.append(kmeans.inertia_)\n",
    "plt.plot(range(1,9),wcss)\n",
    "plt.title('The Elbow Method')\n",
    "plt.xlabel('Number of Clusters')\n",
    "plt.ylabel('WCSS')"
   ]
  },
  {
   "cell_type": "code",
   "execution_count": 44,
   "metadata": {},
   "outputs": [
    {
     "name": "stdout",
     "output_type": "stream",
     "text": [
      "[0 1 3 0 0 1 0 0 0 1 1 3 1 3 1 3 1 1 1 1 1 1 1 1 1 1 1 1 1 2 1 1 0 2 3 0 3\n",
      " 1 1 1 3 3 2 2 2 2 2 1 0 1 1 3 3 1 1 1 1 3 1 1 0 1 1 1 1 0 1 1 1 1 1 1 1 1\n",
      " 3 1 0 1 3 1 1 1 1 3 1 1 1 0 1 1 1 3 3 3 3 0 3 3 0 3]\n"
     ]
    }
   ],
   "source": [
    "clusterer=KMeans(n_clusters=4,random_state=10)\n",
    "cluster_labels=clusterer.fit_predict(x)\n",
    "print(cluster_labels)"
   ]
  },
  {
   "cell_type": "code",
   "execution_count": 45,
   "metadata": {},
   "outputs": [
    {
     "name": "stdout",
     "output_type": "stream",
     "text": [
      "For n_clusters = 2 The average silhouette_score is : 0.502395386892062\n",
      "For n_clusters = 3 The average silhouette_score is : 0.4531606199897904\n",
      "For n_clusters = 4 The average silhouette_score is : 0.3539774504412684\n",
      "For n_clusters = 5 The average silhouette_score is : 0.2748871727124483\n",
      "For n_clusters = 6 The average silhouette_score is : 0.28084169857715113\n"
     ]
    },
    {
     "data": {
      "image/png": "[encoded data removed]",
      "text/plain": [
       "<Figure size 504x504 with 1 Axes>"
      ]
     },
     "metadata": {
      "needs_background": "light"
     },
     "output_type": "display_data"
    },
    {
     "data": {
      "image/png": "[encoded data removed]",
      "text/plain": [
       "<Figure size 504x504 with 1 Axes>"
      ]
     },
     "metadata": {
      "needs_background": "light"
     },
     "output_type": "display_data"
    },
    {
     "data": {
      "image/png": "[encoded data removed]",
      "text/plain": [
       "<Figure size 504x504 with 1 Axes>"
      ]
     },
     "metadata": {
      "needs_background": "light"
     },
     "output_type": "display_data"
    },
    {
     "data": {
      "image/png": "[encoded data removed]",
      "text/plain": [
       "<Figure size 504x504 with 1 Axes>"
      ]
     },
     "metadata": {
      "needs_background": "light"
     },
     "output_type": "display_data"
    },
    {
     "data": {
      "image/png": "[encoded data removed]",
      "text/plain": [
       "<Figure size 504x504 with 1 Axes>"
      ]
     },
     "metadata": {
      "needs_background": "light"
     },
     "output_type": "display_data"
    }
   ],
   "source": [
    "from sklearn.metrics import silhouette_samples,silhouette_score\n",
    "import matplotlib.cm as cm\n",
    "range_n_clusters=[2,3,4,5,6]\n",
    "for n_clusters in range_n_clusters:\n",
    "    # Create a subplot with 1 row and 2 columns\n",
    "    fig, (ax1) = plt.subplots(1, 1)\n",
    "    fig.set_size_inches(7, 7)\n",
    "\n",
    "    # The 1st subplot is the silhouette plot\n",
    "    # The silhouette coefficient can range from -1, 1 but in this example all\n",
    "    # lie within [-0.1, 1]\n",
    "    ax1.set_xlim([-0.1, 1])\n",
    "    # The (n_clusters+1)*10 is for inserting blank space between silhouette\n",
    "    # plots of individual clusters, to demarcate them clearly.\n",
    "    ax1.set_ylim([0, len(x) + (n_clusters + 1) * 10])\n",
    "\n",
    "    # Initialize the clusterer with n_clusters value and a random generator\n",
    "    # seed of 10 for reproducibility.\n",
    "    clusterer = KMeans(n_clusters=n_clusters, random_state=10)\n",
    "    cluster_labels = clusterer.fit_predict(x)\n",
    "\n",
    "    # The silhouette_score gives the average value for all the samples.\n",
    "    # This gives a perspective into the density and separation of the formed\n",
    "    # clusters\n",
    "    silhouette_avg = silhouette_score(x, cluster_labels)\n",
    "    print(\"For n_clusters =\", n_clusters,\n",
    "          \"The average silhouette_score is :\", silhouette_avg)\n",
    "\n",
    "    # Compute the silhouette scores for each sample\n",
    "    sample_silhouette_values = silhouette_samples(x, cluster_labels)\n",
    "\n",
    "    y_lower = 10\n",
    "    for i in range(n_clusters):\n",
    "        # Aggregate the silhouette scores for samples belonging to\n",
    "        # cluster i, and sort them\n",
    "        ith_cluster_silhouette_values = \\\n",
    "            sample_silhouette_values[cluster_labels == i]\n",
    "\n",
    "        ith_cluster_silhouette_values.sort()\n",
    "\n",
    "        size_cluster_i = ith_cluster_silhouette_values.shape[0]\n",
    "        y_upper = y_lower + size_cluster_i\n",
    "\n",
    "        color = cm.nipy_spectral(float(i) / n_clusters)\n",
    "        ax1.fill_betweenx(np.arange(y_lower, y_upper),\n",
    "                          0, ith_cluster_silhouette_values,\n",
    "                          facecolor=color, edgecolor=color, alpha=0.7)\n",
    "\n",
    "        # Label the silhouette plots with their cluster numbers at the middle\n",
    "        ax1.text(-0.05, y_lower + 0.5 * size_cluster_i, str(i))\n",
    "\n",
    "        # Compute the new y_lower for next plot\n",
    "        y_lower = y_upper + 10  # 10 for the 0 samples\n",
    "\n",
    "    ax1.set_title(\"The silhouette plot for the various clusters.\")\n",
    "    ax1.set_xlabel(\"The silhouette coefficient values\")\n",
    "    ax1.set_ylabel(\"Cluster label\")\n",
    "\n",
    "    # The vertical line for average silhouette score of all the values\n",
    "    ax1.axvline(x=silhouette_avg, color=\"red\", linestyle=\"--\")\n",
    "\n",
    "    ax1.set_yticks([])  # Clear the yaxis labels / ticks\n",
    "    ax1.set_xticks([-0.1, 0, 0.2, 0.4, 0.6, 0.8, 1])\n",
    "\n",
    "    plt.suptitle((\"Silhouette analysis for KMeans clustering on sample data \"\n",
    "                  \"with n_clusters = %d\" % n_clusters),\n",
    "                 fontsize=14, fontweight='bold')\n",
    "\n",
    "plt.show()"
   ]
  },
  {
   "cell_type": "code",
   "execution_count": 47,
   "metadata": {},
   "outputs": [],
   "source": [
    "from sklearn.decomposition import PCA\n",
    "kmeans = KMeans(n_clusters=4)\n",
    "kmeans.fit(x)\n",
    "y_kmeans = kmeans.predict(x)\n",
    "pca = PCA(n_components=2)\n",
    "principal_components = pca.fit_transform(x)"
   ]
  },
  {
   "cell_type": "code",
   "execution_count": 48,
   "metadata": {},
   "outputs": [
    {
     "data": {
      "text/plain": [
       "(100, 8)"
      ]
     },
     "execution_count": 48,
     "metadata": {},
     "output_type": "execute_result"
    }
   ],
   "source": [
    "x.shape"
   ]
  },
  {
   "cell_type": "code",
   "execution_count": 49,
   "metadata": {},
   "outputs": [
    {
     "data": {
      "text/plain": [
       "(100, 2)"
      ]
     },
     "execution_count": 49,
     "metadata": {},
     "output_type": "execute_result"
    }
   ],
   "source": [
    "principal_components.shape"
   ]
  },
  {
   "cell_type": "code",
   "execution_count": 51,
   "metadata": {},
   "outputs": [
    {
     "data": {
      "text/plain": [
       "<matplotlib.collections.PathCollection at 0x16ddf0a2f48>"
      ]
     },
     "execution_count": 51,
     "metadata": {},
     "output_type": "execute_result"
    },
    {
     "data": {
      "image/png": "[encoded data removed]",
      "text/plain": [
       "<Figure size 432x288 with 1 Axes>"
      ]
     },
     "metadata": {
      "needs_background": "light"
     },
     "output_type": "display_data"
    }
   ],
   "source": [
    "plt.scatter(principal_components[:,0],principal_components[:,1],c=y_kmeans,cmap='plasma')"
   ]
  },
  {
   "cell_type": "code",
   "execution_count": 53,
   "metadata": {},
   "outputs": [],
   "source": [
    "from sklearn.manifold import TSNE \n",
    "\n",
    "#T-SNE with two dimensions\n",
    "tsne = TSNE(n_components=2, perplexity=50)\n",
    "\n",
    "tsne_components = tsne.fit_transform(x)"
   ]
  },
  {
   "cell_type": "code",
   "execution_count": 54,
   "metadata": {},
   "outputs": [
    {
     "data": {
      "text/plain": [
       "<matplotlib.collections.PathCollection at 0x16ddf13c248>"
      ]
     },
     "execution_count": 54,
     "metadata": {},
     "output_type": "execute_result"
    },
    {
     "data": {
      "image/png": "[encoded data removed]",
      "text/plain": [
       "<Figure size 432x288 with 1 Axes>"
      ]
     },
     "metadata": {
      "needs_background": "light"
     },
     "output_type": "display_data"
    }
   ],
   "source": [
    "plt.scatter(tsne_components[:,0],tsne_components[:,1],c=y_kmeans,cmap='plasma')"
   ]
  },
  {
   "cell_type": "code",
   "execution_count": 55,
   "metadata": {},
   "outputs": [
    {
     "data": {
      "text/plain": [
       "array([0.58941954, 0.17637038])"
      ]
     },
     "execution_count": 55,
     "metadata": {},
     "output_type": "execute_result"
    }
   ],
   "source": [
    "pca.explained_variance_ratio_"
   ]
  },
  {
   "cell_type": "code",
   "execution_count": 56,
   "metadata": {},
   "outputs": [
    {
     "data": {
      "text/plain": [
       "0    57\n",
       "2    21\n",
       "1    15\n",
       "3     7\n",
       "Name: label, dtype: int64"
      ]
     },
     "execution_count": 56,
     "metadata": {},
     "output_type": "execute_result"
    }
   ],
   "source": [
    "data['label']=y_kmeans\n",
    "data=data.sample(frac=1)\n",
    "data['label'].value_counts()"
   ]
  },
  {
   "cell_type": "code",
   "execution_count": 57,
   "metadata": {},
   "outputs": [
    {
     "data": {
      "text/html": [
       "<div>\n",
       "<style scoped>\n",
       "    .dataframe tbody tr th:only-of-type {\n",
       "        vertical-align: middle;\n",
       "    }\n",
       "\n",
       "    .dataframe tbody tr th {\n",
       "        vertical-align: top;\n",
       "    }\n",
       "\n",
       "    .dataframe thead th {\n",
       "        text-align: right;\n",
       "    }\n",
       "</style>\n",
       "<table border=\"1\" class=\"dataframe\">\n",
       "  <thead>\n",
       "    <tr style=\"text-align: right;\">\n",
       "      <th></th>\n",
       "      <th>name</th>\n",
       "      <th>artist</th>\n",
       "      <th>popularity</th>\n",
       "      <th>danceability</th>\n",
       "      <th>acousticness</th>\n",
       "      <th>energy</th>\n",
       "      <th>instrumentalness</th>\n",
       "      <th>liveness</th>\n",
       "      <th>loudness</th>\n",
       "      <th>speechiness</th>\n",
       "      <th>label</th>\n",
       "    </tr>\n",
       "  </thead>\n",
       "  <tbody>\n",
       "    <tr>\n",
       "      <td>59</td>\n",
       "      <td>One Time</td>\n",
       "      <td>Justin Bieber</td>\n",
       "      <td>0.712766</td>\n",
       "      <td>0.691</td>\n",
       "      <td>0.06310</td>\n",
       "      <td>0.853</td>\n",
       "      <td>0.000071</td>\n",
       "      <td>0.082</td>\n",
       "      <td>1.000000</td>\n",
       "      <td>0.0372</td>\n",
       "      <td>0</td>\n",
       "    </tr>\n",
       "    <tr>\n",
       "      <td>25</td>\n",
       "      <td>Be Kind (with Halsey) [Surf Mesa Remix]</td>\n",
       "      <td>Marshmello</td>\n",
       "      <td>0.723404</td>\n",
       "      <td>0.684</td>\n",
       "      <td>0.03050</td>\n",
       "      <td>0.677</td>\n",
       "      <td>0.000000</td>\n",
       "      <td>0.093</td>\n",
       "      <td>0.863554</td>\n",
       "      <td>0.0426</td>\n",
       "      <td>0</td>\n",
       "    </tr>\n",
       "    <tr>\n",
       "      <td>31</td>\n",
       "      <td>bad guy</td>\n",
       "      <td>Billie Eilish</td>\n",
       "      <td>0.946809</td>\n",
       "      <td>0.701</td>\n",
       "      <td>0.32800</td>\n",
       "      <td>0.425</td>\n",
       "      <td>0.130000</td>\n",
       "      <td>0.100</td>\n",
       "      <td>0.598888</td>\n",
       "      <td>0.3750</td>\n",
       "      <td>0</td>\n",
       "    </tr>\n",
       "    <tr>\n",
       "      <td>12</td>\n",
       "      <td>Boy With Luv (feat. Halsey)</td>\n",
       "      <td>BTS</td>\n",
       "      <td>0.872340</td>\n",
       "      <td>0.645</td>\n",
       "      <td>0.09230</td>\n",
       "      <td>0.862</td>\n",
       "      <td>0.000000</td>\n",
       "      <td>0.192</td>\n",
       "      <td>0.894029</td>\n",
       "      <td>0.0965</td>\n",
       "      <td>0</td>\n",
       "    </tr>\n",
       "    <tr>\n",
       "      <td>20</td>\n",
       "      <td>Supalonely</td>\n",
       "      <td>BENEE</td>\n",
       "      <td>0.968085</td>\n",
       "      <td>0.863</td>\n",
       "      <td>0.30500</td>\n",
       "      <td>0.631</td>\n",
       "      <td>0.000030</td>\n",
       "      <td>0.123</td>\n",
       "      <td>0.897262</td>\n",
       "      <td>0.0534</td>\n",
       "      <td>0</td>\n",
       "    </tr>\n",
       "    <tr>\n",
       "      <td>61</td>\n",
       "      <td>thank u, next</td>\n",
       "      <td>Ariana Grande</td>\n",
       "      <td>0.893617</td>\n",
       "      <td>0.717</td>\n",
       "      <td>0.22900</td>\n",
       "      <td>0.653</td>\n",
       "      <td>0.000000</td>\n",
       "      <td>0.101</td>\n",
       "      <td>0.852334</td>\n",
       "      <td>0.0658</td>\n",
       "      <td>0</td>\n",
       "    </tr>\n",
       "    <tr>\n",
       "      <td>22</td>\n",
       "      <td>in my head</td>\n",
       "      <td>Ariana Grande</td>\n",
       "      <td>0.755319</td>\n",
       "      <td>0.662</td>\n",
       "      <td>0.17300</td>\n",
       "      <td>0.600</td>\n",
       "      <td>0.000137</td>\n",
       "      <td>0.109</td>\n",
       "      <td>0.815822</td>\n",
       "      <td>0.0703</td>\n",
       "      <td>0</td>\n",
       "    </tr>\n",
       "    <tr>\n",
       "      <td>70</td>\n",
       "      <td>Rude</td>\n",
       "      <td>MAGIC!</td>\n",
       "      <td>0.829787</td>\n",
       "      <td>0.774</td>\n",
       "      <td>0.04230</td>\n",
       "      <td>0.756</td>\n",
       "      <td>0.000000</td>\n",
       "      <td>0.305</td>\n",
       "      <td>0.882714</td>\n",
       "      <td>0.0389</td>\n",
       "      <td>0</td>\n",
       "    </tr>\n",
       "    <tr>\n",
       "      <td>9</td>\n",
       "      <td>How Deep Is Your Love</td>\n",
       "      <td>Bee Gees</td>\n",
       "      <td>0.819149</td>\n",
       "      <td>0.633</td>\n",
       "      <td>0.10500</td>\n",
       "      <td>0.357</td>\n",
       "      <td>0.000000</td>\n",
       "      <td>0.133</td>\n",
       "      <td>0.674907</td>\n",
       "      <td>0.0264</td>\n",
       "      <td>0</td>\n",
       "    </tr>\n",
       "    <tr>\n",
       "      <td>63</td>\n",
       "      <td>Roar</td>\n",
       "      <td>Katy Perry</td>\n",
       "      <td>0.755319</td>\n",
       "      <td>0.671</td>\n",
       "      <td>0.00492</td>\n",
       "      <td>0.771</td>\n",
       "      <td>0.000007</td>\n",
       "      <td>0.354</td>\n",
       "      <td>0.890986</td>\n",
       "      <td>0.0316</td>\n",
       "      <td>0</td>\n",
       "    </tr>\n",
       "  </tbody>\n",
       "</table>\n",
       "</div>"
      ],
      "text/plain": [
       "                                       name         artist  popularity  \\\n",
       "59                                 One Time  Justin Bieber    0.712766   \n",
       "25  Be Kind (with Halsey) [Surf Mesa Remix]     Marshmello    0.723404   \n",
       "31                                  bad guy  Billie Eilish    0.946809   \n",
       "12              Boy With Luv (feat. Halsey)            BTS    0.872340   \n",
       "20                               Supalonely          BENEE    0.968085   \n",
       "61                            thank u, next  Ariana Grande    0.893617   \n",
       "22                               in my head  Ariana Grande    0.755319   \n",
       "70                                     Rude         MAGIC!    0.829787   \n",
       "9                     How Deep Is Your Love       Bee Gees    0.819149   \n",
       "63                                     Roar     Katy Perry    0.755319   \n",
       "\n",
       "    danceability  acousticness  energy  instrumentalness  liveness  loudness  \\\n",
       "59         0.691       0.06310   0.853          0.000071     0.082  1.000000   \n",
       "25         0.684       0.03050   0.677          0.000000     0.093  0.863554   \n",
       "31         0.701       0.32800   0.425          0.130000     0.100  0.598888   \n",
       "12         0.645       0.09230   0.862          0.000000     0.192  0.894029   \n",
       "20         0.863       0.30500   0.631          0.000030     0.123  0.897262   \n",
       "61         0.717       0.22900   0.653          0.000000     0.101  0.852334   \n",
       "22         0.662       0.17300   0.600          0.000137     0.109  0.815822   \n",
       "70         0.774       0.04230   0.756          0.000000     0.305  0.882714   \n",
       "9          0.633       0.10500   0.357          0.000000     0.133  0.674907   \n",
       "63         0.671       0.00492   0.771          0.000007     0.354  0.890986   \n",
       "\n",
       "    speechiness  label  \n",
       "59       0.0372      0  \n",
       "25       0.0426      0  \n",
       "31       0.3750      0  \n",
       "12       0.0965      0  \n",
       "20       0.0534      0  \n",
       "61       0.0658      0  \n",
       "22       0.0703      0  \n",
       "70       0.0389      0  \n",
       "9        0.0264      0  \n",
       "63       0.0316      0  "
      ]
     },
     "execution_count": 57,
     "metadata": {},
     "output_type": "execute_result"
    }
   ],
   "source": [
    "data[data['label']==0].tail(10)"
   ]
  },
  {
   "cell_type": "code",
   "execution_count": 58,
   "metadata": {},
   "outputs": [
    {
     "data": {
      "text/html": [
       "<div>\n",
       "<style scoped>\n",
       "    .dataframe tbody tr th:only-of-type {\n",
       "        vertical-align: middle;\n",
       "    }\n",
       "\n",
       "    .dataframe tbody tr th {\n",
       "        vertical-align: top;\n",
       "    }\n",
       "\n",
       "    .dataframe thead th {\n",
       "        text-align: right;\n",
       "    }\n",
       "</style>\n",
       "<table border=\"1\" class=\"dataframe\">\n",
       "  <thead>\n",
       "    <tr style=\"text-align: right;\">\n",
       "      <th></th>\n",
       "      <th>name</th>\n",
       "      <th>artist</th>\n",
       "      <th>popularity</th>\n",
       "      <th>danceability</th>\n",
       "      <th>acousticness</th>\n",
       "      <th>energy</th>\n",
       "      <th>instrumentalness</th>\n",
       "      <th>liveness</th>\n",
       "      <th>loudness</th>\n",
       "      <th>speechiness</th>\n",
       "      <th>label</th>\n",
       "    </tr>\n",
       "  </thead>\n",
       "  <tbody>\n",
       "    <tr>\n",
       "      <td>95</td>\n",
       "      <td>I Don't Care</td>\n",
       "      <td>Ariana Grande</td>\n",
       "      <td>0.244681</td>\n",
       "      <td>0.585</td>\n",
       "      <td>0.773</td>\n",
       "      <td>0.401</td>\n",
       "      <td>0.000000</td>\n",
       "      <td>0.1530</td>\n",
       "      <td>0.724684</td>\n",
       "      <td>0.0412</td>\n",
       "      <td>1</td>\n",
       "    </tr>\n",
       "    <tr>\n",
       "      <td>48</td>\n",
       "      <td>Memories</td>\n",
       "      <td>Maroon 5</td>\n",
       "      <td>0.946809</td>\n",
       "      <td>0.764</td>\n",
       "      <td>0.837</td>\n",
       "      <td>0.320</td>\n",
       "      <td>0.000000</td>\n",
       "      <td>0.0822</td>\n",
       "      <td>0.777456</td>\n",
       "      <td>0.0546</td>\n",
       "      <td>1</td>\n",
       "    </tr>\n",
       "    <tr>\n",
       "      <td>7</td>\n",
       "      <td>It's Been a Long, Long Time</td>\n",
       "      <td>Harry James</td>\n",
       "      <td>0.617021</td>\n",
       "      <td>0.277</td>\n",
       "      <td>0.945</td>\n",
       "      <td>0.216</td>\n",
       "      <td>0.001160</td>\n",
       "      <td>0.3250</td>\n",
       "      <td>0.660930</td>\n",
       "      <td>0.0300</td>\n",
       "      <td>1</td>\n",
       "    </tr>\n",
       "    <tr>\n",
       "      <td>3</td>\n",
       "      <td>Song For Zula</td>\n",
       "      <td>Phosphorescent</td>\n",
       "      <td>0.617021</td>\n",
       "      <td>0.492</td>\n",
       "      <td>0.729</td>\n",
       "      <td>0.626</td>\n",
       "      <td>0.533000</td>\n",
       "      <td>0.0509</td>\n",
       "      <td>0.727489</td>\n",
       "      <td>0.0349</td>\n",
       "      <td>1</td>\n",
       "    </tr>\n",
       "    <tr>\n",
       "      <td>65</td>\n",
       "      <td>All of Me</td>\n",
       "      <td>John Legend</td>\n",
       "      <td>0.893617</td>\n",
       "      <td>0.422</td>\n",
       "      <td>0.922</td>\n",
       "      <td>0.264</td>\n",
       "      <td>0.000000</td>\n",
       "      <td>0.1320</td>\n",
       "      <td>0.784349</td>\n",
       "      <td>0.0322</td>\n",
       "      <td>1</td>\n",
       "    </tr>\n",
       "    <tr>\n",
       "      <td>76</td>\n",
       "      <td>hate u love u</td>\n",
       "      <td>Olivia O'Brien</td>\n",
       "      <td>0.819149</td>\n",
       "      <td>0.407</td>\n",
       "      <td>0.656</td>\n",
       "      <td>0.416</td>\n",
       "      <td>0.000000</td>\n",
       "      <td>0.0981</td>\n",
       "      <td>0.696349</td>\n",
       "      <td>0.1740</td>\n",
       "      <td>1</td>\n",
       "    </tr>\n",
       "    <tr>\n",
       "      <td>35</td>\n",
       "      <td>This Town</td>\n",
       "      <td>Niall Horan</td>\n",
       "      <td>0.797872</td>\n",
       "      <td>0.677</td>\n",
       "      <td>0.712</td>\n",
       "      <td>0.401</td>\n",
       "      <td>0.000000</td>\n",
       "      <td>0.1160</td>\n",
       "      <td>0.717648</td>\n",
       "      <td>0.0308</td>\n",
       "      <td>1</td>\n",
       "    </tr>\n",
       "    <tr>\n",
       "      <td>4</td>\n",
       "      <td>Song for Zula</td>\n",
       "      <td>Ronnie Fauss</td>\n",
       "      <td>0.319149</td>\n",
       "      <td>0.506</td>\n",
       "      <td>0.734</td>\n",
       "      <td>0.422</td>\n",
       "      <td>0.000013</td>\n",
       "      <td>0.0737</td>\n",
       "      <td>0.790672</td>\n",
       "      <td>0.0246</td>\n",
       "      <td>1</td>\n",
       "    </tr>\n",
       "    <tr>\n",
       "      <td>98</td>\n",
       "      <td>Leave Me Lonely</td>\n",
       "      <td>Ariana Grande</td>\n",
       "      <td>0.276596</td>\n",
       "      <td>0.445</td>\n",
       "      <td>0.599</td>\n",
       "      <td>0.446</td>\n",
       "      <td>0.000022</td>\n",
       "      <td>0.3390</td>\n",
       "      <td>0.765142</td>\n",
       "      <td>0.0312</td>\n",
       "      <td>1</td>\n",
       "    </tr>\n",
       "    <tr>\n",
       "      <td>60</td>\n",
       "      <td>iT's YoU</td>\n",
       "      <td>ZAYN</td>\n",
       "      <td>0.659574</td>\n",
       "      <td>0.611</td>\n",
       "      <td>0.815</td>\n",
       "      <td>0.319</td>\n",
       "      <td>0.015100</td>\n",
       "      <td>0.1080</td>\n",
       "      <td>0.609442</td>\n",
       "      <td>0.0357</td>\n",
       "      <td>1</td>\n",
       "    </tr>\n",
       "  </tbody>\n",
       "</table>\n",
       "</div>"
      ],
      "text/plain": [
       "                           name          artist  popularity  danceability  \\\n",
       "95                 I Don't Care   Ariana Grande    0.244681         0.585   \n",
       "48                     Memories        Maroon 5    0.946809         0.764   \n",
       "7   It's Been a Long, Long Time     Harry James    0.617021         0.277   \n",
       "3                 Song For Zula  Phosphorescent    0.617021         0.492   \n",
       "65                    All of Me     John Legend    0.893617         0.422   \n",
       "76                hate u love u  Olivia O'Brien    0.819149         0.407   \n",
       "35                    This Town     Niall Horan    0.797872         0.677   \n",
       "4                 Song for Zula    Ronnie Fauss    0.319149         0.506   \n",
       "98              Leave Me Lonely   Ariana Grande    0.276596         0.445   \n",
       "60                     iT's YoU            ZAYN    0.659574         0.611   \n",
       "\n",
       "    acousticness  energy  instrumentalness  liveness  loudness  speechiness  \\\n",
       "95         0.773   0.401          0.000000    0.1530  0.724684       0.0412   \n",
       "48         0.837   0.320          0.000000    0.0822  0.777456       0.0546   \n",
       "7          0.945   0.216          0.001160    0.3250  0.660930       0.0300   \n",
       "3          0.729   0.626          0.533000    0.0509  0.727489       0.0349   \n",
       "65         0.922   0.264          0.000000    0.1320  0.784349       0.0322   \n",
       "76         0.656   0.416          0.000000    0.0981  0.696349       0.1740   \n",
       "35         0.712   0.401          0.000000    0.1160  0.717648       0.0308   \n",
       "4          0.734   0.422          0.000013    0.0737  0.790672       0.0246   \n",
       "98         0.599   0.446          0.000022    0.3390  0.765142       0.0312   \n",
       "60         0.815   0.319          0.015100    0.1080  0.609442       0.0357   \n",
       "\n",
       "    label  \n",
       "95      1  \n",
       "48      1  \n",
       "7       1  \n",
       "3       1  \n",
       "65      1  \n",
       "76      1  \n",
       "35      1  \n",
       "4       1  \n",
       "98      1  \n",
       "60      1  "
      ]
     },
     "execution_count": 58,
     "metadata": {},
     "output_type": "execute_result"
    }
   ],
   "source": [
    "data[data['label'] == 1].tail(10)"
   ]
  },
  {
   "cell_type": "code",
   "execution_count": 59,
   "metadata": {},
   "outputs": [
    {
     "data": {
      "text/html": [
       "<div>\n",
       "<style scoped>\n",
       "    .dataframe tbody tr th:only-of-type {\n",
       "        vertical-align: middle;\n",
       "    }\n",
       "\n",
       "    .dataframe tbody tr th {\n",
       "        vertical-align: top;\n",
       "    }\n",
       "\n",
       "    .dataframe thead th {\n",
       "        text-align: right;\n",
       "    }\n",
       "</style>\n",
       "<table border=\"1\" class=\"dataframe\">\n",
       "  <thead>\n",
       "    <tr style=\"text-align: right;\">\n",
       "      <th></th>\n",
       "      <th>name</th>\n",
       "      <th>artist</th>\n",
       "      <th>popularity</th>\n",
       "      <th>danceability</th>\n",
       "      <th>acousticness</th>\n",
       "      <th>energy</th>\n",
       "      <th>instrumentalness</th>\n",
       "      <th>liveness</th>\n",
       "      <th>loudness</th>\n",
       "      <th>speechiness</th>\n",
       "      <th>label</th>\n",
       "    </tr>\n",
       "  </thead>\n",
       "  <tbody>\n",
       "    <tr>\n",
       "      <td>52</td>\n",
       "      <td>Cold Water (feat. Justin Bieber &amp; MØ)</td>\n",
       "      <td>Major Lazer</td>\n",
       "      <td>0.010638</td>\n",
       "      <td>0.608</td>\n",
       "      <td>0.0736</td>\n",
       "      <td>0.798</td>\n",
       "      <td>0.000000</td>\n",
       "      <td>0.1560</td>\n",
       "      <td>0.878102</td>\n",
       "      <td>0.0432</td>\n",
       "      <td>2</td>\n",
       "    </tr>\n",
       "    <tr>\n",
       "      <td>57</td>\n",
       "      <td>Company</td>\n",
       "      <td>Justin Bieber</td>\n",
       "      <td>0.000000</td>\n",
       "      <td>0.590</td>\n",
       "      <td>0.1320</td>\n",
       "      <td>0.797</td>\n",
       "      <td>0.000000</td>\n",
       "      <td>0.0846</td>\n",
       "      <td>0.887183</td>\n",
       "      <td>0.0614</td>\n",
       "      <td>2</td>\n",
       "    </tr>\n",
       "    <tr>\n",
       "      <td>51</td>\n",
       "      <td>Boyfriend</td>\n",
       "      <td>Justin Bieber</td>\n",
       "      <td>0.095745</td>\n",
       "      <td>0.717</td>\n",
       "      <td>0.0358</td>\n",
       "      <td>0.550</td>\n",
       "      <td>0.001960</td>\n",
       "      <td>0.1260</td>\n",
       "      <td>0.834031</td>\n",
       "      <td>0.0521</td>\n",
       "      <td>2</td>\n",
       "    </tr>\n",
       "    <tr>\n",
       "      <td>34</td>\n",
       "      <td>Next To You Part II (feat. Rvssian &amp; Davido)</td>\n",
       "      <td>Becky G</td>\n",
       "      <td>0.436170</td>\n",
       "      <td>0.674</td>\n",
       "      <td>0.2840</td>\n",
       "      <td>0.713</td>\n",
       "      <td>0.000004</td>\n",
       "      <td>0.1520</td>\n",
       "      <td>0.886232</td>\n",
       "      <td>0.0781</td>\n",
       "      <td>2</td>\n",
       "    </tr>\n",
       "    <tr>\n",
       "      <td>15</td>\n",
       "      <td>Somebody Come Get Her</td>\n",
       "      <td>Dj Orlinda</td>\n",
       "      <td>0.042553</td>\n",
       "      <td>0.835</td>\n",
       "      <td>0.0498</td>\n",
       "      <td>0.447</td>\n",
       "      <td>0.000003</td>\n",
       "      <td>0.0636</td>\n",
       "      <td>0.731245</td>\n",
       "      <td>0.0753</td>\n",
       "      <td>2</td>\n",
       "    </tr>\n",
       "    <tr>\n",
       "      <td>91</td>\n",
       "      <td>Thinking Bout You</td>\n",
       "      <td>Ariana Grande</td>\n",
       "      <td>0.393617</td>\n",
       "      <td>0.505</td>\n",
       "      <td>0.0164</td>\n",
       "      <td>0.704</td>\n",
       "      <td>0.000469</td>\n",
       "      <td>0.1210</td>\n",
       "      <td>0.831131</td>\n",
       "      <td>0.0584</td>\n",
       "      <td>2</td>\n",
       "    </tr>\n",
       "    <tr>\n",
       "      <td>92</td>\n",
       "      <td>Knew Better / Forever Boy</td>\n",
       "      <td>Ariana Grande</td>\n",
       "      <td>0.276596</td>\n",
       "      <td>0.484</td>\n",
       "      <td>0.2350</td>\n",
       "      <td>0.381</td>\n",
       "      <td>0.000004</td>\n",
       "      <td>0.0998</td>\n",
       "      <td>0.801417</td>\n",
       "      <td>0.0711</td>\n",
       "      <td>2</td>\n",
       "    </tr>\n",
       "    <tr>\n",
       "      <td>40</td>\n",
       "      <td>Broken Angel</td>\n",
       "      <td>Arash</td>\n",
       "      <td>0.457447</td>\n",
       "      <td>0.659</td>\n",
       "      <td>0.2640</td>\n",
       "      <td>0.743</td>\n",
       "      <td>0.000005</td>\n",
       "      <td>0.0994</td>\n",
       "      <td>0.835409</td>\n",
       "      <td>0.0252</td>\n",
       "      <td>2</td>\n",
       "    </tr>\n",
       "    <tr>\n",
       "      <td>97</td>\n",
       "      <td>Everyday</td>\n",
       "      <td>Ariana Grande</td>\n",
       "      <td>0.393617</td>\n",
       "      <td>0.630</td>\n",
       "      <td>0.0170</td>\n",
       "      <td>0.721</td>\n",
       "      <td>0.000000</td>\n",
       "      <td>0.1890</td>\n",
       "      <td>0.905772</td>\n",
       "      <td>0.0521</td>\n",
       "      <td>2</td>\n",
       "    </tr>\n",
       "    <tr>\n",
       "      <td>36</td>\n",
       "      <td>Just The Way You Are</td>\n",
       "      <td>Various Artists</td>\n",
       "      <td>0.425532</td>\n",
       "      <td>0.636</td>\n",
       "      <td>0.0132</td>\n",
       "      <td>0.847</td>\n",
       "      <td>0.000000</td>\n",
       "      <td>0.1050</td>\n",
       "      <td>0.862651</td>\n",
       "      <td>0.0439</td>\n",
       "      <td>2</td>\n",
       "    </tr>\n",
       "  </tbody>\n",
       "</table>\n",
       "</div>"
      ],
      "text/plain": [
       "                                            name           artist  popularity  \\\n",
       "52         Cold Water (feat. Justin Bieber & MØ)      Major Lazer    0.010638   \n",
       "57                                       Company    Justin Bieber    0.000000   \n",
       "51                                     Boyfriend    Justin Bieber    0.095745   \n",
       "34  Next To You Part II (feat. Rvssian & Davido)          Becky G    0.436170   \n",
       "15                         Somebody Come Get Her       Dj Orlinda    0.042553   \n",
       "91                             Thinking Bout You    Ariana Grande    0.393617   \n",
       "92                     Knew Better / Forever Boy    Ariana Grande    0.276596   \n",
       "40                                  Broken Angel            Arash    0.457447   \n",
       "97                                      Everyday    Ariana Grande    0.393617   \n",
       "36                          Just The Way You Are  Various Artists    0.425532   \n",
       "\n",
       "    danceability  acousticness  energy  instrumentalness  liveness  loudness  \\\n",
       "52         0.608        0.0736   0.798          0.000000    0.1560  0.878102   \n",
       "57         0.590        0.1320   0.797          0.000000    0.0846  0.887183   \n",
       "51         0.717        0.0358   0.550          0.001960    0.1260  0.834031   \n",
       "34         0.674        0.2840   0.713          0.000004    0.1520  0.886232   \n",
       "15         0.835        0.0498   0.447          0.000003    0.0636  0.731245   \n",
       "91         0.505        0.0164   0.704          0.000469    0.1210  0.831131   \n",
       "92         0.484        0.2350   0.381          0.000004    0.0998  0.801417   \n",
       "40         0.659        0.2640   0.743          0.000005    0.0994  0.835409   \n",
       "97         0.630        0.0170   0.721          0.000000    0.1890  0.905772   \n",
       "36         0.636        0.0132   0.847          0.000000    0.1050  0.862651   \n",
       "\n",
       "    speechiness  label  \n",
       "52       0.0432      2  \n",
       "57       0.0614      2  \n",
       "51       0.0521      2  \n",
       "34       0.0781      2  \n",
       "15       0.0753      2  \n",
       "91       0.0584      2  \n",
       "92       0.0711      2  \n",
       "40       0.0252      2  \n",
       "97       0.0521      2  \n",
       "36       0.0439      2  "
      ]
     },
     "execution_count": 59,
     "metadata": {},
     "output_type": "execute_result"
    }
   ],
   "source": [
    "data[data['label'] == 2].tail(10)"
   ]
  },
  {
   "cell_type": "code",
   "execution_count": 61,
   "metadata": {},
   "outputs": [
    {
     "data": {
      "text/html": [
       "<div>\n",
       "<style scoped>\n",
       "    .dataframe tbody tr th:only-of-type {\n",
       "        vertical-align: middle;\n",
       "    }\n",
       "\n",
       "    .dataframe tbody tr th {\n",
       "        vertical-align: top;\n",
       "    }\n",
       "\n",
       "    .dataframe thead th {\n",
       "        text-align: right;\n",
       "    }\n",
       "</style>\n",
       "<table border=\"1\" class=\"dataframe\">\n",
       "  <thead>\n",
       "    <tr style=\"text-align: right;\">\n",
       "      <th></th>\n",
       "      <th>name</th>\n",
       "      <th>artist</th>\n",
       "      <th>popularity</th>\n",
       "      <th>danceability</th>\n",
       "      <th>acousticness</th>\n",
       "      <th>energy</th>\n",
       "      <th>instrumentalness</th>\n",
       "      <th>liveness</th>\n",
       "      <th>loudness</th>\n",
       "      <th>speechiness</th>\n",
       "      <th>label</th>\n",
       "    </tr>\n",
       "  </thead>\n",
       "  <tbody>\n",
       "    <tr>\n",
       "      <td>42</td>\n",
       "      <td>Braille</td>\n",
       "      <td>Jan A.P. Kaczmarek</td>\n",
       "      <td>0.244681</td>\n",
       "      <td>0.183</td>\n",
       "      <td>0.943</td>\n",
       "      <td>0.0238</td>\n",
       "      <td>0.947</td>\n",
       "      <td>0.0931</td>\n",
       "      <td>0.000000</td>\n",
       "      <td>0.0397</td>\n",
       "      <td>3</td>\n",
       "    </tr>\n",
       "    <tr>\n",
       "      <td>46</td>\n",
       "      <td>Kiss the Rain</td>\n",
       "      <td>Yiruma</td>\n",
       "      <td>0.595745</td>\n",
       "      <td>0.557</td>\n",
       "      <td>0.990</td>\n",
       "      <td>0.0958</td>\n",
       "      <td>0.872</td>\n",
       "      <td>0.1450</td>\n",
       "      <td>0.242702</td>\n",
       "      <td>0.0542</td>\n",
       "      <td>3</td>\n",
       "    </tr>\n",
       "    <tr>\n",
       "      <td>44</td>\n",
       "      <td>Kiss The Rain</td>\n",
       "      <td>Yiruma</td>\n",
       "      <td>0.670213</td>\n",
       "      <td>0.559</td>\n",
       "      <td>0.990</td>\n",
       "      <td>0.0519</td>\n",
       "      <td>0.905</td>\n",
       "      <td>0.1170</td>\n",
       "      <td>0.044975</td>\n",
       "      <td>0.0423</td>\n",
       "      <td>3</td>\n",
       "    </tr>\n",
       "    <tr>\n",
       "      <td>45</td>\n",
       "      <td>River Flows in You</td>\n",
       "      <td>Yiruma</td>\n",
       "      <td>0.648936</td>\n",
       "      <td>0.287</td>\n",
       "      <td>0.968</td>\n",
       "      <td>0.2920</td>\n",
       "      <td>0.978</td>\n",
       "      <td>0.0900</td>\n",
       "      <td>0.203337</td>\n",
       "      <td>0.0541</td>\n",
       "      <td>3</td>\n",
       "    </tr>\n",
       "    <tr>\n",
       "      <td>43</td>\n",
       "      <td>River Flows In You</td>\n",
       "      <td>Yiruma</td>\n",
       "      <td>0.744681</td>\n",
       "      <td>0.314</td>\n",
       "      <td>0.987</td>\n",
       "      <td>0.2200</td>\n",
       "      <td>0.943</td>\n",
       "      <td>0.0802</td>\n",
       "      <td>0.105496</td>\n",
       "      <td>0.0514</td>\n",
       "      <td>3</td>\n",
       "    </tr>\n",
       "    <tr>\n",
       "      <td>29</td>\n",
       "      <td>Memories</td>\n",
       "      <td>Ryan L Stewart</td>\n",
       "      <td>0.361702</td>\n",
       "      <td>0.534</td>\n",
       "      <td>0.969</td>\n",
       "      <td>0.1300</td>\n",
       "      <td>0.963</td>\n",
       "      <td>0.0780</td>\n",
       "      <td>0.342826</td>\n",
       "      <td>0.0353</td>\n",
       "      <td>3</td>\n",
       "    </tr>\n",
       "    <tr>\n",
       "      <td>33</td>\n",
       "      <td>everything i wanted</td>\n",
       "      <td>Billie Eilish</td>\n",
       "      <td>0.936170</td>\n",
       "      <td>0.704</td>\n",
       "      <td>0.902</td>\n",
       "      <td>0.2250</td>\n",
       "      <td>0.657</td>\n",
       "      <td>0.1060</td>\n",
       "      <td>0.433013</td>\n",
       "      <td>0.0994</td>\n",
       "      <td>3</td>\n",
       "    </tr>\n",
       "  </tbody>\n",
       "</table>\n",
       "</div>"
      ],
      "text/plain": [
       "                   name              artist  popularity  danceability  \\\n",
       "42              Braille  Jan A.P. Kaczmarek    0.244681         0.183   \n",
       "46        Kiss the Rain              Yiruma    0.595745         0.557   \n",
       "44        Kiss The Rain              Yiruma    0.670213         0.559   \n",
       "45   River Flows in You              Yiruma    0.648936         0.287   \n",
       "43   River Flows In You              Yiruma    0.744681         0.314   \n",
       "29             Memories      Ryan L Stewart    0.361702         0.534   \n",
       "33  everything i wanted       Billie Eilish    0.936170         0.704   \n",
       "\n",
       "    acousticness  energy  instrumentalness  liveness  loudness  speechiness  \\\n",
       "42         0.943  0.0238             0.947    0.0931  0.000000       0.0397   \n",
       "46         0.990  0.0958             0.872    0.1450  0.242702       0.0542   \n",
       "44         0.990  0.0519             0.905    0.1170  0.044975       0.0423   \n",
       "45         0.968  0.2920             0.978    0.0900  0.203337       0.0541   \n",
       "43         0.987  0.2200             0.943    0.0802  0.105496       0.0514   \n",
       "29         0.969  0.1300             0.963    0.0780  0.342826       0.0353   \n",
       "33         0.902  0.2250             0.657    0.1060  0.433013       0.0994   \n",
       "\n",
       "    label  \n",
       "42      3  \n",
       "46      3  \n",
       "44      3  \n",
       "45      3  \n",
       "43      3  \n",
       "29      3  \n",
       "33      3  "
      ]
     },
     "execution_count": 61,
     "metadata": {},
     "output_type": "execute_result"
    }
   ],
   "source": [
    "data[data['label']==3].tail(10)"
   ]
  },
  {
   "cell_type": "code",
   "execution_count": 60,
   "metadata": {},
   "outputs": [
    {
     "data": {
      "text/plain": [
       "array([[<matplotlib.axes._subplots.AxesSubplot object at 0x0000016DDF18FE08>,\n",
       "        <matplotlib.axes._subplots.AxesSubplot object at 0x0000016DDF1AA4C8>,\n",
       "        <matplotlib.axes._subplots.AxesSubplot object at 0x0000016DE01AD788>],\n",
       "       [<matplotlib.axes._subplots.AxesSubplot object at 0x0000016DE01DECC8>,\n",
       "        <matplotlib.axes._subplots.AxesSubplot object at 0x0000016DE0218508>,\n",
       "        <matplotlib.axes._subplots.AxesSubplot object at 0x0000016DE024E288>],\n",
       "       [<matplotlib.axes._subplots.AxesSubplot object at 0x0000016DE0285FC8>,\n",
       "        <matplotlib.axes._subplots.AxesSubplot object at 0x0000016DE02B5D48>,\n",
       "        <matplotlib.axes._subplots.AxesSubplot object at 0x0000016DE02B9BC8>]],\n",
       "      dtype=object)"
      ]
     },
     "execution_count": 60,
     "metadata": {},
     "output_type": "execute_result"
    },
    {
     "data": {
      "image/png": "[encoded data removed]",
      "text/plain": [
       "<Figure size 432x288 with 9 Axes>"
      ]
     },
     "metadata": {
      "needs_background": "light"
     },
     "output_type": "display_data"
    }
   ],
   "source": [
    "#Energetic Mood\n",
    "data[data['label']==0].hist()"
   ]
  },
  {
   "cell_type": "code",
   "execution_count": 62,
   "metadata": {},
   "outputs": [
    {
     "data": {
      "text/plain": [
       "array([[<matplotlib.axes._subplots.AxesSubplot object at 0x0000016DDE95DF08>,\n",
       "        <matplotlib.axes._subplots.AxesSubplot object at 0x0000016DDD65BE48>,\n",
       "        <matplotlib.axes._subplots.AxesSubplot object at 0x0000016DDE8D41C8>],\n",
       "       [<matplotlib.axes._subplots.AxesSubplot object at 0x0000016DDD762BC8>,\n",
       "        <matplotlib.axes._subplots.AxesSubplot object at 0x0000016DDE91F5C8>,\n",
       "        <matplotlib.axes._subplots.AxesSubplot object at 0x0000016DDE87E108>],\n",
       "       [<matplotlib.axes._subplots.AxesSubplot object at 0x0000016DE03D6988>,\n",
       "        <matplotlib.axes._subplots.AxesSubplot object at 0x0000016DE040E3C8>,\n",
       "        <matplotlib.axes._subplots.AxesSubplot object at 0x0000016DDEA13EC8>]],\n",
       "      dtype=object)"
      ]
     },
     "execution_count": 62,
     "metadata": {},
     "output_type": "execute_result"
    },
    {
     "data": {
      "image/png": "[encoded data removed]",
      "text/plain": [
       "<Figure size 432x288 with 9 Axes>"
      ]
     },
     "metadata": {
      "needs_background": "light"
     },
     "output_type": "display_data"
    }
   ],
   "source": [
    "#Cheerfull Mood\n",
    "data[data['label']==1].hist()"
   ]
  },
  {
   "cell_type": "code",
   "execution_count": 63,
   "metadata": {},
   "outputs": [
    {
     "data": {
      "text/plain": [
       "array([[<matplotlib.axes._subplots.AxesSubplot object at 0x0000016DDEC22308>,\n",
       "        <matplotlib.axes._subplots.AxesSubplot object at 0x0000016DDEC6F248>,\n",
       "        <matplotlib.axes._subplots.AxesSubplot object at 0x0000016DDEC90988>],\n",
       "       [<matplotlib.axes._subplots.AxesSubplot object at 0x0000016DDECC93C8>,\n",
       "        <matplotlib.axes._subplots.AxesSubplot object at 0x0000016DDECFED88>,\n",
       "        <matplotlib.axes._subplots.AxesSubplot object at 0x0000016DDED3A788>],\n",
       "       [<matplotlib.axes._subplots.AxesSubplot object at 0x0000016DDED74188>,\n",
       "        <matplotlib.axes._subplots.AxesSubplot object at 0x0000016DDEDAAB88>,\n",
       "        <matplotlib.axes._subplots.AxesSubplot object at 0x0000016DDEDB56C8>]],\n",
       "      dtype=object)"
      ]
     },
     "execution_count": 63,
     "metadata": {},
     "output_type": "execute_result"
    },
    {
     "data": {
      "image/png": "[encoded data removed]",
      "text/plain": [
       "<Figure size 432x288 with 9 Axes>"
      ]
     },
     "metadata": {
      "needs_background": "light"
     },
     "output_type": "display_data"
    }
   ],
   "source": [
    "#Chill mood\n",
    "data[data['label']==2].hist()"
   ]
  },
  {
   "cell_type": "code",
   "execution_count": 64,
   "metadata": {},
   "outputs": [
    {
     "data": {
      "text/plain": [
       "array([[<matplotlib.axes._subplots.AxesSubplot object at 0x0000016DDEC199C8>,\n",
       "        <matplotlib.axes._subplots.AxesSubplot object at 0x0000016DE055A8C8>,\n",
       "        <matplotlib.axes._subplots.AxesSubplot object at 0x0000016DE0578E48>],\n",
       "       [<matplotlib.axes._subplots.AxesSubplot object at 0x0000016DE05B1888>,\n",
       "        <matplotlib.axes._subplots.AxesSubplot object at 0x0000016DE05EB288>,\n",
       "        <matplotlib.axes._subplots.AxesSubplot object at 0x0000016DE0620C48>],\n",
       "       [<matplotlib.axes._subplots.AxesSubplot object at 0x0000016DE0653608>,\n",
       "        <matplotlib.axes._subplots.AxesSubplot object at 0x0000016DE0689708>,\n",
       "        <matplotlib.axes._subplots.AxesSubplot object at 0x0000016DE0696308>]],\n",
       "      dtype=object)"
      ]
     },
     "execution_count": 64,
     "metadata": {},
     "output_type": "execute_result"
    },
    {
     "data": {
      "image/png": "[encoded data removed]",
      "text/plain": [
       "<Figure size 432x288 with 9 Axes>"
      ]
     },
     "metadata": {
      "needs_background": "light"
     },
     "output_type": "display_data"
    }
   ],
   "source": [
    "#Romantic Mood \n",
    "data[data['label']==3].hist()"
   ]
  },
  {
   "cell_type": "code",
   "execution_count": 65,
   "metadata": {},
   "outputs": [
    {
     "data": {
      "text/plain": [
       "RandomForestClassifier()"
      ]
     },
     "execution_count": 65,
     "metadata": {},
     "output_type": "execute_result"
    }
   ],
   "source": [
    "from sklearn.ensemble import RandomForestClassifier\n",
    "from sklearn.model_selection import train_test_split\n",
    "from sklearn.model_selection import cross_val_score\n",
    "from sklearn.metrics import classification_report, confusion_matrix\n",
    "from sklearn.utils.multiclass import unique_labels\n",
    "\n",
    "X = x\n",
    "y = y_kmeans\n",
    "\n",
    "X_train, X_test, y_train, y_test = train_test_split(X, y, test_size=0.33)\n",
    "\n",
    "rfc = RandomForestClassifier(n_estimators=100,criterion='gini')\n",
    "rfc.fit(X_train,y_train)"
   ]
  },
  {
   "cell_type": "code",
   "execution_count": 66,
   "metadata": {},
   "outputs": [],
   "source": [
    "y_pred = rfc.predict(X_test)"
   ]
  },
  {
   "cell_type": "code",
   "execution_count": 67,
   "metadata": {},
   "outputs": [
    {
     "name": "stdout",
     "output_type": "stream",
     "text": [
      "[[23  0  0]\n",
      " [ 0  5  0]\n",
      " [ 1  0  4]]\n"
     ]
    }
   ],
   "source": [
    "from sklearn.metrics import confusion_matrix\n",
    "print(confusion_matrix(y_test,y_pred))"
   ]
  },
  {
   "cell_type": "code",
   "execution_count": 68,
   "metadata": {},
   "outputs": [
    {
     "name": "stdout",
     "output_type": "stream",
     "text": [
      "0.9696969696969697\n"
     ]
    }
   ],
   "source": [
    "from sklearn.metrics import accuracy_score\n",
    "print(accuracy_score(y_test,y_pred))"
   ]
  },
  {
   "cell_type": "code",
   "execution_count": 69,
   "metadata": {},
   "outputs": [
    {
     "name": "stdout",
     "output_type": "stream",
     "text": [
      "              precision    recall  f1-score   support\n",
      "\n",
      "           0       0.96      1.00      0.98        23\n",
      "           1       1.00      1.00      1.00         5\n",
      "           2       1.00      0.80      0.89         5\n",
      "\n",
      "    accuracy                           0.97        33\n",
      "   macro avg       0.99      0.93      0.96        33\n",
      "weighted avg       0.97      0.97      0.97        33\n",
      "\n"
     ]
    }
   ],
   "source": [
    "from sklearn.metrics import classification_report\n",
    "print(classification_report(y_test,y_pred))"
   ]
  },
  {
   "cell_type": "code",
   "execution_count": 72,
   "metadata": {},
   "outputs": [],
   "source": [
    "from sklearn import svm\n",
    "\n",
    "#Create a SVM Classifier\n",
    "svm = svm.SVC(kernel=\"linear\") \n",
    "\n",
    "#Train the model using the training sets\n",
    "svm.fit(X_train, y_train)\n",
    "\n",
    "#Predict the response for test dataset\n",
    "svm_pred = svm.predict(X_test)"
   ]
  },
  {
   "cell_type": "code",
   "execution_count": 73,
   "metadata": {},
   "outputs": [
    {
     "name": "stdout",
     "output_type": "stream",
     "text": [
      "              precision    recall  f1-score   support\n",
      "\n",
      "           0       0.96      1.00      0.98        23\n",
      "           1       1.00      1.00      1.00         5\n",
      "           2       1.00      0.80      0.89         5\n",
      "\n",
      "    accuracy                           0.97        33\n",
      "   macro avg       0.99      0.93      0.96        33\n",
      "weighted avg       0.97      0.97      0.97        33\n",
      "\n"
     ]
    }
   ],
   "source": [
    "print(classification_report(y_test,svm_pred))"
   ]
  },
  {
   "cell_type": "code",
   "execution_count": null,
   "metadata": {},
   "outputs": [],
   "source": []
  }
 ],
 "metadata": {
  "kernelspec": {
   "display_name": "Python 3",
   "language": "python",
   "name": "python3"
  },
  "language_info": {
   "codemirror_mode": {
    "name": "ipython",
    "version": 3
   },
   "file_extension": ".py",
   "mimetype": "text/x-python",
   "name": "python",
   "nbconvert_exporter": "python",
   "pygments_lexer": "ipython3",
   "version": "3.7.4"
  }
 },
 "nbformat": 4,
 "nbformat_minor": 2
}
